{
 "cells": [
  {
   "cell_type": "code",
   "execution_count": 1,
   "metadata": {},
   "outputs": [],
   "source": [
    "import pandas as pd\n",
    "import numpy as np \n",
    "import matplotlib.pyplot as plt"
   ]
  },
  {
   "cell_type": "code",
   "execution_count": 2,
   "metadata": {},
   "outputs": [
    {
     "data": {
      "text/html": [
       "<div>\n",
       "<style scoped>\n",
       "    .dataframe tbody tr th:only-of-type {\n",
       "        vertical-align: middle;\n",
       "    }\n",
       "\n",
       "    .dataframe tbody tr th {\n",
       "        vertical-align: top;\n",
       "    }\n",
       "\n",
       "    .dataframe thead th {\n",
       "        text-align: right;\n",
       "    }\n",
       "</style>\n",
       "<table border=\"1\" class=\"dataframe\">\n",
       "  <thead>\n",
       "    <tr style=\"text-align: right;\">\n",
       "      <th></th>\n",
       "      <th>name</th>\n",
       "      <th>datetime</th>\n",
       "      <th>temp</th>\n",
       "      <th>feelslike</th>\n",
       "      <th>dew</th>\n",
       "      <th>humidity</th>\n",
       "      <th>precip</th>\n",
       "      <th>precipprob</th>\n",
       "      <th>preciptype</th>\n",
       "      <th>snow</th>\n",
       "      <th>...</th>\n",
       "      <th>sealevelpressure</th>\n",
       "      <th>cloudcover</th>\n",
       "      <th>visibility</th>\n",
       "      <th>solarradiation</th>\n",
       "      <th>solarenergy</th>\n",
       "      <th>uvindex</th>\n",
       "      <th>severerisk</th>\n",
       "      <th>conditions</th>\n",
       "      <th>icon</th>\n",
       "      <th>stations</th>\n",
       "    </tr>\n",
       "  </thead>\n",
       "  <tbody>\n",
       "    <tr>\n",
       "      <th>0</th>\n",
       "      <td>chennai</td>\n",
       "      <td>2013-01-01T00:00:00</td>\n",
       "      <td>25.1</td>\n",
       "      <td>25.1</td>\n",
       "      <td>24.1</td>\n",
       "      <td>94.19</td>\n",
       "      <td>0.0</td>\n",
       "      <td>0</td>\n",
       "      <td>NaN</td>\n",
       "      <td>NaN</td>\n",
       "      <td>...</td>\n",
       "      <td>1010.8</td>\n",
       "      <td>50.0</td>\n",
       "      <td>6.0</td>\n",
       "      <td>0.0</td>\n",
       "      <td>0.0</td>\n",
       "      <td>0.0</td>\n",
       "      <td>NaN</td>\n",
       "      <td>Partially cloudy</td>\n",
       "      <td>partly-cloudy-night</td>\n",
       "      <td>43279099999</td>\n",
       "    </tr>\n",
       "    <tr>\n",
       "      <th>1</th>\n",
       "      <td>chennai</td>\n",
       "      <td>2013-01-01T01:00:00</td>\n",
       "      <td>25.1</td>\n",
       "      <td>25.1</td>\n",
       "      <td>24.1</td>\n",
       "      <td>94.19</td>\n",
       "      <td>0.0</td>\n",
       "      <td>0</td>\n",
       "      <td>NaN</td>\n",
       "      <td>NaN</td>\n",
       "      <td>...</td>\n",
       "      <td>1010.8</td>\n",
       "      <td>50.0</td>\n",
       "      <td>6.0</td>\n",
       "      <td>0.0</td>\n",
       "      <td>0.0</td>\n",
       "      <td>0.0</td>\n",
       "      <td>NaN</td>\n",
       "      <td>Partially cloudy</td>\n",
       "      <td>partly-cloudy-night</td>\n",
       "      <td>43279099999</td>\n",
       "    </tr>\n",
       "    <tr>\n",
       "      <th>2</th>\n",
       "      <td>chennai</td>\n",
       "      <td>2013-01-01T02:00:00</td>\n",
       "      <td>25.1</td>\n",
       "      <td>25.1</td>\n",
       "      <td>24.1</td>\n",
       "      <td>94.19</td>\n",
       "      <td>0.0</td>\n",
       "      <td>0</td>\n",
       "      <td>NaN</td>\n",
       "      <td>NaN</td>\n",
       "      <td>...</td>\n",
       "      <td>1010.2</td>\n",
       "      <td>50.0</td>\n",
       "      <td>6.0</td>\n",
       "      <td>0.0</td>\n",
       "      <td>0.0</td>\n",
       "      <td>0.0</td>\n",
       "      <td>NaN</td>\n",
       "      <td>Partially cloudy</td>\n",
       "      <td>partly-cloudy-night</td>\n",
       "      <td>43279099999</td>\n",
       "    </tr>\n",
       "    <tr>\n",
       "      <th>3</th>\n",
       "      <td>chennai</td>\n",
       "      <td>2013-01-01T03:00:00</td>\n",
       "      <td>24.3</td>\n",
       "      <td>24.3</td>\n",
       "      <td>22.2</td>\n",
       "      <td>88.08</td>\n",
       "      <td>0.0</td>\n",
       "      <td>0</td>\n",
       "      <td>NaN</td>\n",
       "      <td>NaN</td>\n",
       "      <td>...</td>\n",
       "      <td>NaN</td>\n",
       "      <td>66.4</td>\n",
       "      <td>NaN</td>\n",
       "      <td>0.0</td>\n",
       "      <td>0.0</td>\n",
       "      <td>0.0</td>\n",
       "      <td>NaN</td>\n",
       "      <td>Partially cloudy</td>\n",
       "      <td>partly-cloudy-night</td>\n",
       "      <td>remote</td>\n",
       "    </tr>\n",
       "    <tr>\n",
       "      <th>4</th>\n",
       "      <td>chennai</td>\n",
       "      <td>2013-01-01T04:00:00</td>\n",
       "      <td>24.1</td>\n",
       "      <td>24.1</td>\n",
       "      <td>24.1</td>\n",
       "      <td>100.00</td>\n",
       "      <td>0.0</td>\n",
       "      <td>0</td>\n",
       "      <td>NaN</td>\n",
       "      <td>NaN</td>\n",
       "      <td>...</td>\n",
       "      <td>1010.2</td>\n",
       "      <td>50.0</td>\n",
       "      <td>1.0</td>\n",
       "      <td>0.0</td>\n",
       "      <td>0.0</td>\n",
       "      <td>0.0</td>\n",
       "      <td>NaN</td>\n",
       "      <td>Partially cloudy</td>\n",
       "      <td>partly-cloudy-night</td>\n",
       "      <td>43279099999</td>\n",
       "    </tr>\n",
       "    <tr>\n",
       "      <th>...</th>\n",
       "      <td>...</td>\n",
       "      <td>...</td>\n",
       "      <td>...</td>\n",
       "      <td>...</td>\n",
       "      <td>...</td>\n",
       "      <td>...</td>\n",
       "      <td>...</td>\n",
       "      <td>...</td>\n",
       "      <td>...</td>\n",
       "      <td>...</td>\n",
       "      <td>...</td>\n",
       "      <td>...</td>\n",
       "      <td>...</td>\n",
       "      <td>...</td>\n",
       "      <td>...</td>\n",
       "      <td>...</td>\n",
       "      <td>...</td>\n",
       "      <td>...</td>\n",
       "      <td>...</td>\n",
       "      <td>...</td>\n",
       "      <td>...</td>\n",
       "    </tr>\n",
       "    <tr>\n",
       "      <th>87643</th>\n",
       "      <td>chennai</td>\n",
       "      <td>2022-12-31T19:00:00</td>\n",
       "      <td>27.0</td>\n",
       "      <td>29.6</td>\n",
       "      <td>23.0</td>\n",
       "      <td>78.78</td>\n",
       "      <td>0.0</td>\n",
       "      <td>0</td>\n",
       "      <td>NaN</td>\n",
       "      <td>0.0</td>\n",
       "      <td>...</td>\n",
       "      <td>1015.0</td>\n",
       "      <td>27.4</td>\n",
       "      <td>6.0</td>\n",
       "      <td>6.0</td>\n",
       "      <td>0.0</td>\n",
       "      <td>0.0</td>\n",
       "      <td>3.0</td>\n",
       "      <td>Partially cloudy</td>\n",
       "      <td>partly-cloudy-night</td>\n",
       "      <td>VOMM,43279099999</td>\n",
       "    </tr>\n",
       "    <tr>\n",
       "      <th>87644</th>\n",
       "      <td>chennai</td>\n",
       "      <td>2022-12-31T20:00:00</td>\n",
       "      <td>24.9</td>\n",
       "      <td>24.9</td>\n",
       "      <td>21.2</td>\n",
       "      <td>79.62</td>\n",
       "      <td>0.0</td>\n",
       "      <td>0</td>\n",
       "      <td>NaN</td>\n",
       "      <td>0.0</td>\n",
       "      <td>...</td>\n",
       "      <td>1016.2</td>\n",
       "      <td>17.6</td>\n",
       "      <td>4.4</td>\n",
       "      <td>0.0</td>\n",
       "      <td>0.0</td>\n",
       "      <td>0.0</td>\n",
       "      <td>3.0</td>\n",
       "      <td>Clear</td>\n",
       "      <td>clear-night</td>\n",
       "      <td>VOMM,43279099999,43278099999</td>\n",
       "    </tr>\n",
       "    <tr>\n",
       "      <th>87645</th>\n",
       "      <td>chennai</td>\n",
       "      <td>2022-12-31T21:00:00</td>\n",
       "      <td>26.0</td>\n",
       "      <td>26.0</td>\n",
       "      <td>23.0</td>\n",
       "      <td>83.57</td>\n",
       "      <td>0.0</td>\n",
       "      <td>0</td>\n",
       "      <td>NaN</td>\n",
       "      <td>0.0</td>\n",
       "      <td>...</td>\n",
       "      <td>1016.0</td>\n",
       "      <td>27.4</td>\n",
       "      <td>5.0</td>\n",
       "      <td>0.0</td>\n",
       "      <td>0.0</td>\n",
       "      <td>0.0</td>\n",
       "      <td>3.0</td>\n",
       "      <td>Partially cloudy</td>\n",
       "      <td>partly-cloudy-night</td>\n",
       "      <td>VOMM,43279099999</td>\n",
       "    </tr>\n",
       "    <tr>\n",
       "      <th>87646</th>\n",
       "      <td>chennai</td>\n",
       "      <td>2022-12-31T22:00:00</td>\n",
       "      <td>26.0</td>\n",
       "      <td>26.0</td>\n",
       "      <td>23.0</td>\n",
       "      <td>83.57</td>\n",
       "      <td>0.0</td>\n",
       "      <td>0</td>\n",
       "      <td>NaN</td>\n",
       "      <td>0.0</td>\n",
       "      <td>...</td>\n",
       "      <td>1016.0</td>\n",
       "      <td>27.4</td>\n",
       "      <td>5.0</td>\n",
       "      <td>0.0</td>\n",
       "      <td>0.0</td>\n",
       "      <td>0.0</td>\n",
       "      <td>3.0</td>\n",
       "      <td>Partially cloudy</td>\n",
       "      <td>partly-cloudy-night</td>\n",
       "      <td>VOMM,43279099999</td>\n",
       "    </tr>\n",
       "    <tr>\n",
       "      <th>87647</th>\n",
       "      <td>chennai</td>\n",
       "      <td>2022-12-31T23:00:00</td>\n",
       "      <td>24.0</td>\n",
       "      <td>24.0</td>\n",
       "      <td>21.6</td>\n",
       "      <td>86.13</td>\n",
       "      <td>0.0</td>\n",
       "      <td>0</td>\n",
       "      <td>NaN</td>\n",
       "      <td>0.0</td>\n",
       "      <td>...</td>\n",
       "      <td>1016.4</td>\n",
       "      <td>27.4</td>\n",
       "      <td>4.5</td>\n",
       "      <td>0.0</td>\n",
       "      <td>0.0</td>\n",
       "      <td>0.0</td>\n",
       "      <td>10.0</td>\n",
       "      <td>Partially cloudy</td>\n",
       "      <td>partly-cloudy-night</td>\n",
       "      <td>VOMM,43279099999</td>\n",
       "    </tr>\n",
       "  </tbody>\n",
       "</table>\n",
       "<p>87648 rows × 24 columns</p>\n",
       "</div>"
      ],
      "text/plain": [
       "          name             datetime  temp  feelslike   dew  humidity  precip  \\\n",
       "0      chennai  2013-01-01T00:00:00  25.1       25.1  24.1     94.19     0.0   \n",
       "1      chennai  2013-01-01T01:00:00  25.1       25.1  24.1     94.19     0.0   \n",
       "2      chennai  2013-01-01T02:00:00  25.1       25.1  24.1     94.19     0.0   \n",
       "3      chennai  2013-01-01T03:00:00  24.3       24.3  22.2     88.08     0.0   \n",
       "4      chennai  2013-01-01T04:00:00  24.1       24.1  24.1    100.00     0.0   \n",
       "...        ...                  ...   ...        ...   ...       ...     ...   \n",
       "87643  chennai  2022-12-31T19:00:00  27.0       29.6  23.0     78.78     0.0   \n",
       "87644  chennai  2022-12-31T20:00:00  24.9       24.9  21.2     79.62     0.0   \n",
       "87645  chennai  2022-12-31T21:00:00  26.0       26.0  23.0     83.57     0.0   \n",
       "87646  chennai  2022-12-31T22:00:00  26.0       26.0  23.0     83.57     0.0   \n",
       "87647  chennai  2022-12-31T23:00:00  24.0       24.0  21.6     86.13     0.0   \n",
       "\n",
       "       precipprob preciptype  snow  ...  sealevelpressure  cloudcover  \\\n",
       "0               0        NaN   NaN  ...            1010.8        50.0   \n",
       "1               0        NaN   NaN  ...            1010.8        50.0   \n",
       "2               0        NaN   NaN  ...            1010.2        50.0   \n",
       "3               0        NaN   NaN  ...               NaN        66.4   \n",
       "4               0        NaN   NaN  ...            1010.2        50.0   \n",
       "...           ...        ...   ...  ...               ...         ...   \n",
       "87643           0        NaN   0.0  ...            1015.0        27.4   \n",
       "87644           0        NaN   0.0  ...            1016.2        17.6   \n",
       "87645           0        NaN   0.0  ...            1016.0        27.4   \n",
       "87646           0        NaN   0.0  ...            1016.0        27.4   \n",
       "87647           0        NaN   0.0  ...            1016.4        27.4   \n",
       "\n",
       "       visibility  solarradiation  solarenergy  uvindex  severerisk  \\\n",
       "0             6.0             0.0          0.0      0.0         NaN   \n",
       "1             6.0             0.0          0.0      0.0         NaN   \n",
       "2             6.0             0.0          0.0      0.0         NaN   \n",
       "3             NaN             0.0          0.0      0.0         NaN   \n",
       "4             1.0             0.0          0.0      0.0         NaN   \n",
       "...           ...             ...          ...      ...         ...   \n",
       "87643         6.0             6.0          0.0      0.0         3.0   \n",
       "87644         4.4             0.0          0.0      0.0         3.0   \n",
       "87645         5.0             0.0          0.0      0.0         3.0   \n",
       "87646         5.0             0.0          0.0      0.0         3.0   \n",
       "87647         4.5             0.0          0.0      0.0        10.0   \n",
       "\n",
       "             conditions                 icon                      stations  \n",
       "0      Partially cloudy  partly-cloudy-night                   43279099999  \n",
       "1      Partially cloudy  partly-cloudy-night                   43279099999  \n",
       "2      Partially cloudy  partly-cloudy-night                   43279099999  \n",
       "3      Partially cloudy  partly-cloudy-night                        remote  \n",
       "4      Partially cloudy  partly-cloudy-night                   43279099999  \n",
       "...                 ...                  ...                           ...  \n",
       "87643  Partially cloudy  partly-cloudy-night              VOMM,43279099999  \n",
       "87644             Clear          clear-night  VOMM,43279099999,43278099999  \n",
       "87645  Partially cloudy  partly-cloudy-night              VOMM,43279099999  \n",
       "87646  Partially cloudy  partly-cloudy-night              VOMM,43279099999  \n",
       "87647  Partially cloudy  partly-cloudy-night              VOMM,43279099999  \n",
       "\n",
       "[87648 rows x 24 columns]"
      ]
     },
     "execution_count": 2,
     "metadata": {},
     "output_type": "execute_result"
    }
   ],
   "source": [
    "df = pd.read_csv(\"Datasets\\Chennai.csv\")\n",
    "df"
   ]
  },
  {
   "cell_type": "code",
   "execution_count": 3,
   "metadata": {},
   "outputs": [],
   "source": [
    "df.index = pd.to_datetime(df['datetime'])\n",
    "precip = df['precip']"
   ]
  },
  {
   "cell_type": "code",
   "execution_count": 4,
   "metadata": {},
   "outputs": [
    {
     "data": {
      "text/html": [
       "<div>\n",
       "<style scoped>\n",
       "    .dataframe tbody tr th:only-of-type {\n",
       "        vertical-align: middle;\n",
       "    }\n",
       "\n",
       "    .dataframe tbody tr th {\n",
       "        vertical-align: top;\n",
       "    }\n",
       "\n",
       "    .dataframe thead th {\n",
       "        text-align: right;\n",
       "    }\n",
       "</style>\n",
       "<table border=\"1\" class=\"dataframe\">\n",
       "  <thead>\n",
       "    <tr style=\"text-align: right;\">\n",
       "      <th></th>\n",
       "      <th>name</th>\n",
       "      <th>datetime</th>\n",
       "      <th>temp</th>\n",
       "      <th>feelslike</th>\n",
       "      <th>dew</th>\n",
       "      <th>humidity</th>\n",
       "      <th>precip</th>\n",
       "      <th>precipprob</th>\n",
       "      <th>preciptype</th>\n",
       "      <th>snow</th>\n",
       "      <th>...</th>\n",
       "      <th>sealevelpressure</th>\n",
       "      <th>cloudcover</th>\n",
       "      <th>visibility</th>\n",
       "      <th>solarradiation</th>\n",
       "      <th>solarenergy</th>\n",
       "      <th>uvindex</th>\n",
       "      <th>severerisk</th>\n",
       "      <th>conditions</th>\n",
       "      <th>icon</th>\n",
       "      <th>stations</th>\n",
       "    </tr>\n",
       "    <tr>\n",
       "      <th>datetime</th>\n",
       "      <th></th>\n",
       "      <th></th>\n",
       "      <th></th>\n",
       "      <th></th>\n",
       "      <th></th>\n",
       "      <th></th>\n",
       "      <th></th>\n",
       "      <th></th>\n",
       "      <th></th>\n",
       "      <th></th>\n",
       "      <th></th>\n",
       "      <th></th>\n",
       "      <th></th>\n",
       "      <th></th>\n",
       "      <th></th>\n",
       "      <th></th>\n",
       "      <th></th>\n",
       "      <th></th>\n",
       "      <th></th>\n",
       "      <th></th>\n",
       "      <th></th>\n",
       "    </tr>\n",
       "  </thead>\n",
       "  <tbody>\n",
       "    <tr>\n",
       "      <th>2013-01-01 00:00:00</th>\n",
       "      <td>chennai</td>\n",
       "      <td>2013-01-01T00:00:00</td>\n",
       "      <td>25.1</td>\n",
       "      <td>25.1</td>\n",
       "      <td>24.1</td>\n",
       "      <td>94.19</td>\n",
       "      <td>0.0</td>\n",
       "      <td>0</td>\n",
       "      <td>NaN</td>\n",
       "      <td>NaN</td>\n",
       "      <td>...</td>\n",
       "      <td>1010.8</td>\n",
       "      <td>50.0</td>\n",
       "      <td>6.0</td>\n",
       "      <td>0.0</td>\n",
       "      <td>0.0</td>\n",
       "      <td>0.0</td>\n",
       "      <td>NaN</td>\n",
       "      <td>Partially cloudy</td>\n",
       "      <td>partly-cloudy-night</td>\n",
       "      <td>43279099999</td>\n",
       "    </tr>\n",
       "    <tr>\n",
       "      <th>2013-01-01 01:00:00</th>\n",
       "      <td>chennai</td>\n",
       "      <td>2013-01-01T01:00:00</td>\n",
       "      <td>25.1</td>\n",
       "      <td>25.1</td>\n",
       "      <td>24.1</td>\n",
       "      <td>94.19</td>\n",
       "      <td>0.0</td>\n",
       "      <td>0</td>\n",
       "      <td>NaN</td>\n",
       "      <td>NaN</td>\n",
       "      <td>...</td>\n",
       "      <td>1010.8</td>\n",
       "      <td>50.0</td>\n",
       "      <td>6.0</td>\n",
       "      <td>0.0</td>\n",
       "      <td>0.0</td>\n",
       "      <td>0.0</td>\n",
       "      <td>NaN</td>\n",
       "      <td>Partially cloudy</td>\n",
       "      <td>partly-cloudy-night</td>\n",
       "      <td>43279099999</td>\n",
       "    </tr>\n",
       "    <tr>\n",
       "      <th>2013-01-01 02:00:00</th>\n",
       "      <td>chennai</td>\n",
       "      <td>2013-01-01T02:00:00</td>\n",
       "      <td>25.1</td>\n",
       "      <td>25.1</td>\n",
       "      <td>24.1</td>\n",
       "      <td>94.19</td>\n",
       "      <td>0.0</td>\n",
       "      <td>0</td>\n",
       "      <td>NaN</td>\n",
       "      <td>NaN</td>\n",
       "      <td>...</td>\n",
       "      <td>1010.2</td>\n",
       "      <td>50.0</td>\n",
       "      <td>6.0</td>\n",
       "      <td>0.0</td>\n",
       "      <td>0.0</td>\n",
       "      <td>0.0</td>\n",
       "      <td>NaN</td>\n",
       "      <td>Partially cloudy</td>\n",
       "      <td>partly-cloudy-night</td>\n",
       "      <td>43279099999</td>\n",
       "    </tr>\n",
       "    <tr>\n",
       "      <th>2013-01-01 03:00:00</th>\n",
       "      <td>chennai</td>\n",
       "      <td>2013-01-01T03:00:00</td>\n",
       "      <td>24.3</td>\n",
       "      <td>24.3</td>\n",
       "      <td>22.2</td>\n",
       "      <td>88.08</td>\n",
       "      <td>0.0</td>\n",
       "      <td>0</td>\n",
       "      <td>NaN</td>\n",
       "      <td>NaN</td>\n",
       "      <td>...</td>\n",
       "      <td>NaN</td>\n",
       "      <td>66.4</td>\n",
       "      <td>NaN</td>\n",
       "      <td>0.0</td>\n",
       "      <td>0.0</td>\n",
       "      <td>0.0</td>\n",
       "      <td>NaN</td>\n",
       "      <td>Partially cloudy</td>\n",
       "      <td>partly-cloudy-night</td>\n",
       "      <td>remote</td>\n",
       "    </tr>\n",
       "    <tr>\n",
       "      <th>2013-01-01 04:00:00</th>\n",
       "      <td>chennai</td>\n",
       "      <td>2013-01-01T04:00:00</td>\n",
       "      <td>24.1</td>\n",
       "      <td>24.1</td>\n",
       "      <td>24.1</td>\n",
       "      <td>100.00</td>\n",
       "      <td>0.0</td>\n",
       "      <td>0</td>\n",
       "      <td>NaN</td>\n",
       "      <td>NaN</td>\n",
       "      <td>...</td>\n",
       "      <td>1010.2</td>\n",
       "      <td>50.0</td>\n",
       "      <td>1.0</td>\n",
       "      <td>0.0</td>\n",
       "      <td>0.0</td>\n",
       "      <td>0.0</td>\n",
       "      <td>NaN</td>\n",
       "      <td>Partially cloudy</td>\n",
       "      <td>partly-cloudy-night</td>\n",
       "      <td>43279099999</td>\n",
       "    </tr>\n",
       "  </tbody>\n",
       "</table>\n",
       "<p>5 rows × 24 columns</p>\n",
       "</div>"
      ],
      "text/plain": [
       "                        name             datetime  temp  feelslike   dew  \\\n",
       "datetime                                                                   \n",
       "2013-01-01 00:00:00  chennai  2013-01-01T00:00:00  25.1       25.1  24.1   \n",
       "2013-01-01 01:00:00  chennai  2013-01-01T01:00:00  25.1       25.1  24.1   \n",
       "2013-01-01 02:00:00  chennai  2013-01-01T02:00:00  25.1       25.1  24.1   \n",
       "2013-01-01 03:00:00  chennai  2013-01-01T03:00:00  24.3       24.3  22.2   \n",
       "2013-01-01 04:00:00  chennai  2013-01-01T04:00:00  24.1       24.1  24.1   \n",
       "\n",
       "                     humidity  precip  precipprob preciptype  snow  ...  \\\n",
       "datetime                                                            ...   \n",
       "2013-01-01 00:00:00     94.19     0.0           0        NaN   NaN  ...   \n",
       "2013-01-01 01:00:00     94.19     0.0           0        NaN   NaN  ...   \n",
       "2013-01-01 02:00:00     94.19     0.0           0        NaN   NaN  ...   \n",
       "2013-01-01 03:00:00     88.08     0.0           0        NaN   NaN  ...   \n",
       "2013-01-01 04:00:00    100.00     0.0           0        NaN   NaN  ...   \n",
       "\n",
       "                     sealevelpressure  cloudcover  visibility  solarradiation  \\\n",
       "datetime                                                                        \n",
       "2013-01-01 00:00:00            1010.8        50.0         6.0             0.0   \n",
       "2013-01-01 01:00:00            1010.8        50.0         6.0             0.0   \n",
       "2013-01-01 02:00:00            1010.2        50.0         6.0             0.0   \n",
       "2013-01-01 03:00:00               NaN        66.4         NaN             0.0   \n",
       "2013-01-01 04:00:00            1010.2        50.0         1.0             0.0   \n",
       "\n",
       "                     solarenergy  uvindex  severerisk        conditions  \\\n",
       "datetime                                                                  \n",
       "2013-01-01 00:00:00          0.0      0.0         NaN  Partially cloudy   \n",
       "2013-01-01 01:00:00          0.0      0.0         NaN  Partially cloudy   \n",
       "2013-01-01 02:00:00          0.0      0.0         NaN  Partially cloudy   \n",
       "2013-01-01 03:00:00          0.0      0.0         NaN  Partially cloudy   \n",
       "2013-01-01 04:00:00          0.0      0.0         NaN  Partially cloudy   \n",
       "\n",
       "                                    icon     stations  \n",
       "datetime                                               \n",
       "2013-01-01 00:00:00  partly-cloudy-night  43279099999  \n",
       "2013-01-01 01:00:00  partly-cloudy-night  43279099999  \n",
       "2013-01-01 02:00:00  partly-cloudy-night  43279099999  \n",
       "2013-01-01 03:00:00  partly-cloudy-night       remote  \n",
       "2013-01-01 04:00:00  partly-cloudy-night  43279099999  \n",
       "\n",
       "[5 rows x 24 columns]"
      ]
     },
     "execution_count": 4,
     "metadata": {},
     "output_type": "execute_result"
    }
   ],
   "source": [
    "df.head()\n"
   ]
  },
  {
   "cell_type": "code",
   "execution_count": 5,
   "metadata": {},
   "outputs": [
    {
     "data": {
      "text/plain": [
       "name                    0\n",
       "datetime                0\n",
       "temp                    0\n",
       "feelslike               0\n",
       "dew                     0\n",
       "humidity                0\n",
       "precip                  0\n",
       "precipprob              0\n",
       "preciptype          84029\n",
       "snow                80648\n",
       "snowdepth           87648\n",
       "windgust            77419\n",
       "windspeed               0\n",
       "winddir                 0\n",
       "sealevelpressure     3186\n",
       "cloudcover              0\n",
       "visibility           1603\n",
       "solarradiation         13\n",
       "solarenergy            13\n",
       "uvindex                13\n",
       "severerisk          79122\n",
       "conditions              0\n",
       "icon                    0\n",
       "stations                0\n",
       "dtype: int64"
      ]
     },
     "execution_count": 5,
     "metadata": {},
     "output_type": "execute_result"
    }
   ],
   "source": [
    "df.apply(pd.isnull).sum()"
   ]
  },
  {
   "cell_type": "code",
   "execution_count": 6,
   "metadata": {},
   "outputs": [
    {
     "name": "stdout",
     "output_type": "stream",
     "text": [
      "name                0.000000\n",
      "datetime            0.000000\n",
      "temp                0.000000\n",
      "feelslike           0.000000\n",
      "dew                 0.000000\n",
      "humidity            0.000000\n",
      "precip              0.000000\n",
      "precipprob          0.000000\n",
      "preciptype          0.958710\n",
      "snow                0.920135\n",
      "snowdepth           1.000000\n",
      "windgust            0.883295\n",
      "windspeed           0.000000\n",
      "winddir             0.000000\n",
      "sealevelpressure    0.036350\n",
      "cloudcover          0.000000\n",
      "visibility          0.018289\n",
      "solarradiation      0.000148\n",
      "solarenergy         0.000148\n",
      "uvindex             0.000148\n",
      "severerisk          0.902725\n",
      "conditions          0.000000\n",
      "icon                0.000000\n",
      "stations            0.000000\n",
      "dtype: float64\n",
      "Index(['name', 'datetime', 'temp', 'feelslike', 'dew', 'humidity', 'precip',\n",
      "       'precipprob', 'windspeed', 'winddir', 'sealevelpressure', 'cloudcover',\n",
      "       'visibility', 'solarradiation', 'solarenergy', 'uvindex', 'conditions',\n",
      "       'icon', 'stations'],\n",
      "      dtype='object')\n"
     ]
    }
   ],
   "source": [
    "null_pct = df.apply(pd.isnull).sum() / df.shape[0]\n",
    "print(null_pct)\n",
    "valid_columns = df.columns[null_pct < 0.05]\n",
    "print(valid_columns)\n"
   ]
  },
  {
   "cell_type": "code",
   "execution_count": 7,
   "metadata": {},
   "outputs": [
    {
     "data": {
      "text/plain": [
       "Index(['name', 'datetime', 'temp', 'feelslike', 'dew', 'humidity', 'precip',\n",
       "       'precipprob', 'windspeed', 'winddir', 'sealevelpressure', 'cloudcover',\n",
       "       'visibility', 'solarradiation', 'solarenergy', 'uvindex', 'conditions',\n",
       "       'icon', 'stations'],\n",
       "      dtype='object')"
      ]
     },
     "execution_count": 7,
     "metadata": {},
     "output_type": "execute_result"
    }
   ],
   "source": [
    "valid_columns"
   ]
  },
  {
   "cell_type": "code",
   "execution_count": 8,
   "metadata": {},
   "outputs": [],
   "source": [
    "valid_columns = ['name', 'datetime', 'temp', 'dew', 'humidity', 'precip',\n",
    "       'precipprob', 'cloudcover', 'conditions',\n",
    "        ]"
   ]
  },
  {
   "cell_type": "code",
   "execution_count": 9,
   "metadata": {},
   "outputs": [],
   "source": [
    "weather = df[valid_columns].copy()\n",
    "numeric_weather = weather.select_dtypes(include=['number'])"
   ]
  },
  {
   "cell_type": "code",
   "execution_count": 10,
   "metadata": {},
   "outputs": [
    {
     "data": {
      "text/html": [
       "<div>\n",
       "<style scoped>\n",
       "    .dataframe tbody tr th:only-of-type {\n",
       "        vertical-align: middle;\n",
       "    }\n",
       "\n",
       "    .dataframe tbody tr th {\n",
       "        vertical-align: top;\n",
       "    }\n",
       "\n",
       "    .dataframe thead th {\n",
       "        text-align: right;\n",
       "    }\n",
       "</style>\n",
       "<table border=\"1\" class=\"dataframe\">\n",
       "  <thead>\n",
       "    <tr style=\"text-align: right;\">\n",
       "      <th></th>\n",
       "      <th>temp</th>\n",
       "      <th>dew</th>\n",
       "      <th>humidity</th>\n",
       "      <th>precip</th>\n",
       "      <th>precipprob</th>\n",
       "      <th>cloudcover</th>\n",
       "    </tr>\n",
       "    <tr>\n",
       "      <th>datetime</th>\n",
       "      <th></th>\n",
       "      <th></th>\n",
       "      <th></th>\n",
       "      <th></th>\n",
       "      <th></th>\n",
       "      <th></th>\n",
       "    </tr>\n",
       "  </thead>\n",
       "  <tbody>\n",
       "    <tr>\n",
       "      <th>2013-01-01 00:00:00</th>\n",
       "      <td>25.1</td>\n",
       "      <td>24.1</td>\n",
       "      <td>94.19</td>\n",
       "      <td>0.0</td>\n",
       "      <td>0</td>\n",
       "      <td>50.0</td>\n",
       "    </tr>\n",
       "    <tr>\n",
       "      <th>2013-01-01 01:00:00</th>\n",
       "      <td>25.1</td>\n",
       "      <td>24.1</td>\n",
       "      <td>94.19</td>\n",
       "      <td>0.0</td>\n",
       "      <td>0</td>\n",
       "      <td>50.0</td>\n",
       "    </tr>\n",
       "    <tr>\n",
       "      <th>2013-01-01 02:00:00</th>\n",
       "      <td>25.1</td>\n",
       "      <td>24.1</td>\n",
       "      <td>94.19</td>\n",
       "      <td>0.0</td>\n",
       "      <td>0</td>\n",
       "      <td>50.0</td>\n",
       "    </tr>\n",
       "    <tr>\n",
       "      <th>2013-01-01 03:00:00</th>\n",
       "      <td>24.3</td>\n",
       "      <td>22.2</td>\n",
       "      <td>88.08</td>\n",
       "      <td>0.0</td>\n",
       "      <td>0</td>\n",
       "      <td>66.4</td>\n",
       "    </tr>\n",
       "    <tr>\n",
       "      <th>2013-01-01 04:00:00</th>\n",
       "      <td>24.1</td>\n",
       "      <td>24.1</td>\n",
       "      <td>100.00</td>\n",
       "      <td>0.0</td>\n",
       "      <td>0</td>\n",
       "      <td>50.0</td>\n",
       "    </tr>\n",
       "    <tr>\n",
       "      <th>...</th>\n",
       "      <td>...</td>\n",
       "      <td>...</td>\n",
       "      <td>...</td>\n",
       "      <td>...</td>\n",
       "      <td>...</td>\n",
       "      <td>...</td>\n",
       "    </tr>\n",
       "    <tr>\n",
       "      <th>2022-12-31 19:00:00</th>\n",
       "      <td>27.0</td>\n",
       "      <td>23.0</td>\n",
       "      <td>78.78</td>\n",
       "      <td>0.0</td>\n",
       "      <td>0</td>\n",
       "      <td>27.4</td>\n",
       "    </tr>\n",
       "    <tr>\n",
       "      <th>2022-12-31 20:00:00</th>\n",
       "      <td>24.9</td>\n",
       "      <td>21.2</td>\n",
       "      <td>79.62</td>\n",
       "      <td>0.0</td>\n",
       "      <td>0</td>\n",
       "      <td>17.6</td>\n",
       "    </tr>\n",
       "    <tr>\n",
       "      <th>2022-12-31 21:00:00</th>\n",
       "      <td>26.0</td>\n",
       "      <td>23.0</td>\n",
       "      <td>83.57</td>\n",
       "      <td>0.0</td>\n",
       "      <td>0</td>\n",
       "      <td>27.4</td>\n",
       "    </tr>\n",
       "    <tr>\n",
       "      <th>2022-12-31 22:00:00</th>\n",
       "      <td>26.0</td>\n",
       "      <td>23.0</td>\n",
       "      <td>83.57</td>\n",
       "      <td>0.0</td>\n",
       "      <td>0</td>\n",
       "      <td>27.4</td>\n",
       "    </tr>\n",
       "    <tr>\n",
       "      <th>2022-12-31 23:00:00</th>\n",
       "      <td>24.0</td>\n",
       "      <td>21.6</td>\n",
       "      <td>86.13</td>\n",
       "      <td>0.0</td>\n",
       "      <td>0</td>\n",
       "      <td>27.4</td>\n",
       "    </tr>\n",
       "  </tbody>\n",
       "</table>\n",
       "<p>87648 rows × 6 columns</p>\n",
       "</div>"
      ],
      "text/plain": [
       "                     temp   dew  humidity  precip  precipprob  cloudcover\n",
       "datetime                                                                 \n",
       "2013-01-01 00:00:00  25.1  24.1     94.19     0.0           0        50.0\n",
       "2013-01-01 01:00:00  25.1  24.1     94.19     0.0           0        50.0\n",
       "2013-01-01 02:00:00  25.1  24.1     94.19     0.0           0        50.0\n",
       "2013-01-01 03:00:00  24.3  22.2     88.08     0.0           0        66.4\n",
       "2013-01-01 04:00:00  24.1  24.1    100.00     0.0           0        50.0\n",
       "...                   ...   ...       ...     ...         ...         ...\n",
       "2022-12-31 19:00:00  27.0  23.0     78.78     0.0           0        27.4\n",
       "2022-12-31 20:00:00  24.9  21.2     79.62     0.0           0        17.6\n",
       "2022-12-31 21:00:00  26.0  23.0     83.57     0.0           0        27.4\n",
       "2022-12-31 22:00:00  26.0  23.0     83.57     0.0           0        27.4\n",
       "2022-12-31 23:00:00  24.0  21.6     86.13     0.0           0        27.4\n",
       "\n",
       "[87648 rows x 6 columns]"
      ]
     },
     "execution_count": 10,
     "metadata": {},
     "output_type": "execute_result"
    }
   ],
   "source": [
    "numeric_weather"
   ]
  },
  {
   "cell_type": "code",
   "execution_count": null,
   "metadata": {},
   "outputs": [],
   "source": []
  },
  {
   "cell_type": "code",
   "execution_count": 11,
   "metadata": {},
   "outputs": [
    {
     "data": {
      "text/html": [
       "<div>\n",
       "<style scoped>\n",
       "    .dataframe tbody tr th:only-of-type {\n",
       "        vertical-align: middle;\n",
       "    }\n",
       "\n",
       "    .dataframe tbody tr th {\n",
       "        vertical-align: top;\n",
       "    }\n",
       "\n",
       "    .dataframe thead th {\n",
       "        text-align: right;\n",
       "    }\n",
       "</style>\n",
       "<table border=\"1\" class=\"dataframe\">\n",
       "  <thead>\n",
       "    <tr style=\"text-align: right;\">\n",
       "      <th></th>\n",
       "      <th>temp</th>\n",
       "      <th>dew</th>\n",
       "      <th>humidity</th>\n",
       "      <th>precip</th>\n",
       "      <th>precipprob</th>\n",
       "      <th>cloudcover</th>\n",
       "    </tr>\n",
       "    <tr>\n",
       "      <th>datetime</th>\n",
       "      <th></th>\n",
       "      <th></th>\n",
       "      <th></th>\n",
       "      <th></th>\n",
       "      <th></th>\n",
       "      <th></th>\n",
       "    </tr>\n",
       "  </thead>\n",
       "  <tbody>\n",
       "    <tr>\n",
       "      <th>2013-01-01 00:00:00</th>\n",
       "      <td>25.1</td>\n",
       "      <td>24.1</td>\n",
       "      <td>94.19</td>\n",
       "      <td>0.0</td>\n",
       "      <td>0</td>\n",
       "      <td>50.0</td>\n",
       "    </tr>\n",
       "    <tr>\n",
       "      <th>2013-01-01 01:00:00</th>\n",
       "      <td>25.1</td>\n",
       "      <td>24.1</td>\n",
       "      <td>94.19</td>\n",
       "      <td>0.0</td>\n",
       "      <td>0</td>\n",
       "      <td>50.0</td>\n",
       "    </tr>\n",
       "    <tr>\n",
       "      <th>2013-01-01 02:00:00</th>\n",
       "      <td>25.1</td>\n",
       "      <td>24.1</td>\n",
       "      <td>94.19</td>\n",
       "      <td>0.0</td>\n",
       "      <td>0</td>\n",
       "      <td>50.0</td>\n",
       "    </tr>\n",
       "    <tr>\n",
       "      <th>2013-01-01 03:00:00</th>\n",
       "      <td>24.3</td>\n",
       "      <td>22.2</td>\n",
       "      <td>88.08</td>\n",
       "      <td>0.0</td>\n",
       "      <td>0</td>\n",
       "      <td>66.4</td>\n",
       "    </tr>\n",
       "    <tr>\n",
       "      <th>2013-01-01 04:00:00</th>\n",
       "      <td>24.1</td>\n",
       "      <td>24.1</td>\n",
       "      <td>100.00</td>\n",
       "      <td>0.0</td>\n",
       "      <td>0</td>\n",
       "      <td>50.0</td>\n",
       "    </tr>\n",
       "  </tbody>\n",
       "</table>\n",
       "</div>"
      ],
      "text/plain": [
       "                     temp   dew  humidity  precip  precipprob  cloudcover\n",
       "datetime                                                                 \n",
       "2013-01-01 00:00:00  25.1  24.1     94.19     0.0           0        50.0\n",
       "2013-01-01 01:00:00  25.1  24.1     94.19     0.0           0        50.0\n",
       "2013-01-01 02:00:00  25.1  24.1     94.19     0.0           0        50.0\n",
       "2013-01-01 03:00:00  24.3  22.2     88.08     0.0           0        66.4\n",
       "2013-01-01 04:00:00  24.1  24.1    100.00     0.0           0        50.0"
      ]
     },
     "execution_count": 11,
     "metadata": {},
     "output_type": "execute_result"
    }
   ],
   "source": [
    "\n",
    "numeric_weather.head()"
   ]
  },
  {
   "cell_type": "code",
   "execution_count": 12,
   "metadata": {},
   "outputs": [
    {
     "data": {
      "text/html": [
       "<div>\n",
       "<style scoped>\n",
       "    .dataframe tbody tr th:only-of-type {\n",
       "        vertical-align: middle;\n",
       "    }\n",
       "\n",
       "    .dataframe tbody tr th {\n",
       "        vertical-align: top;\n",
       "    }\n",
       "\n",
       "    .dataframe thead th {\n",
       "        text-align: right;\n",
       "    }\n",
       "</style>\n",
       "<table border=\"1\" class=\"dataframe\">\n",
       "  <thead>\n",
       "    <tr style=\"text-align: right;\">\n",
       "      <th></th>\n",
       "      <th>temp</th>\n",
       "      <th>dew</th>\n",
       "      <th>humidity</th>\n",
       "      <th>precip</th>\n",
       "      <th>precipprob</th>\n",
       "      <th>cloudcover</th>\n",
       "    </tr>\n",
       "    <tr>\n",
       "      <th>datetime</th>\n",
       "      <th></th>\n",
       "      <th></th>\n",
       "      <th></th>\n",
       "      <th></th>\n",
       "      <th></th>\n",
       "      <th></th>\n",
       "    </tr>\n",
       "  </thead>\n",
       "  <tbody>\n",
       "    <tr>\n",
       "      <th>2013-01-01 00:00:00</th>\n",
       "      <td>25.1</td>\n",
       "      <td>24.1</td>\n",
       "      <td>94.19</td>\n",
       "      <td>0.0</td>\n",
       "      <td>0</td>\n",
       "      <td>50.0</td>\n",
       "    </tr>\n",
       "    <tr>\n",
       "      <th>2013-01-01 01:00:00</th>\n",
       "      <td>25.1</td>\n",
       "      <td>24.1</td>\n",
       "      <td>94.19</td>\n",
       "      <td>0.0</td>\n",
       "      <td>0</td>\n",
       "      <td>50.0</td>\n",
       "    </tr>\n",
       "    <tr>\n",
       "      <th>2013-01-01 02:00:00</th>\n",
       "      <td>25.1</td>\n",
       "      <td>24.1</td>\n",
       "      <td>94.19</td>\n",
       "      <td>0.0</td>\n",
       "      <td>0</td>\n",
       "      <td>50.0</td>\n",
       "    </tr>\n",
       "    <tr>\n",
       "      <th>2013-01-01 03:00:00</th>\n",
       "      <td>24.3</td>\n",
       "      <td>22.2</td>\n",
       "      <td>88.08</td>\n",
       "      <td>0.0</td>\n",
       "      <td>0</td>\n",
       "      <td>66.4</td>\n",
       "    </tr>\n",
       "    <tr>\n",
       "      <th>2013-01-01 04:00:00</th>\n",
       "      <td>24.1</td>\n",
       "      <td>24.1</td>\n",
       "      <td>100.00</td>\n",
       "      <td>0.0</td>\n",
       "      <td>0</td>\n",
       "      <td>50.0</td>\n",
       "    </tr>\n",
       "  </tbody>\n",
       "</table>\n",
       "</div>"
      ],
      "text/plain": [
       "                     temp   dew  humidity  precip  precipprob  cloudcover\n",
       "datetime                                                                 \n",
       "2013-01-01 00:00:00  25.1  24.1     94.19     0.0           0        50.0\n",
       "2013-01-01 01:00:00  25.1  24.1     94.19     0.0           0        50.0\n",
       "2013-01-01 02:00:00  25.1  24.1     94.19     0.0           0        50.0\n",
       "2013-01-01 03:00:00  24.3  22.2     88.08     0.0           0        66.4\n",
       "2013-01-01 04:00:00  24.1  24.1    100.00     0.0           0        50.0"
      ]
     },
     "execution_count": 12,
     "metadata": {},
     "output_type": "execute_result"
    }
   ],
   "source": [
    "numeric_weather.head()"
   ]
  },
  {
   "cell_type": "code",
   "execution_count": 13,
   "metadata": {},
   "outputs": [
    {
     "name": "stdout",
     "output_type": "stream",
     "text": [
      "0.20557103413654618\n",
      "2.4245306735158434\n"
     ]
    }
   ],
   "source": [
    "mean = numeric_weather['precip'].mean()\n",
    "std = numeric_weather['precip'].std()\n",
    "print(mean)\n",
    "print(std)"
   ]
  },
  {
   "cell_type": "code",
   "execution_count": 14,
   "metadata": {},
   "outputs": [
    {
     "name": "stdout",
     "output_type": "stream",
     "text": [
      "Index(['temp', 'dew', 'humidity', 'precip', 'precipprob', 'cloudcover'], dtype='object')\n"
     ]
    }
   ],
   "source": [
    "print(numeric_weather.columns)\n",
    "trans_columns = ['temp', 'dew', 'humidity', 'precip', 'precipprob', 'cloudcover']"
   ]
  },
  {
   "cell_type": "code",
   "execution_count": 15,
   "metadata": {},
   "outputs": [
    {
     "data": {
      "text/html": [
       "<div>\n",
       "<style scoped>\n",
       "    .dataframe tbody tr th:only-of-type {\n",
       "        vertical-align: middle;\n",
       "    }\n",
       "\n",
       "    .dataframe tbody tr th {\n",
       "        vertical-align: top;\n",
       "    }\n",
       "\n",
       "    .dataframe thead th {\n",
       "        text-align: right;\n",
       "    }\n",
       "</style>\n",
       "<table border=\"1\" class=\"dataframe\">\n",
       "  <thead>\n",
       "    <tr style=\"text-align: right;\">\n",
       "      <th></th>\n",
       "      <th>temp</th>\n",
       "      <th>dew</th>\n",
       "      <th>humidity</th>\n",
       "      <th>precip</th>\n",
       "      <th>precipprob</th>\n",
       "      <th>cloudcover</th>\n",
       "    </tr>\n",
       "  </thead>\n",
       "  <tbody>\n",
       "    <tr>\n",
       "      <th>0</th>\n",
       "      <td>-1.122366</td>\n",
       "      <td>0.304205</td>\n",
       "      <td>1.409463</td>\n",
       "      <td>-0.084788</td>\n",
       "      <td>-0.181861</td>\n",
       "      <td>-0.005441</td>\n",
       "    </tr>\n",
       "    <tr>\n",
       "      <th>1</th>\n",
       "      <td>-1.122366</td>\n",
       "      <td>0.304205</td>\n",
       "      <td>1.409463</td>\n",
       "      <td>-0.084788</td>\n",
       "      <td>-0.181861</td>\n",
       "      <td>-0.005441</td>\n",
       "    </tr>\n",
       "    <tr>\n",
       "      <th>2</th>\n",
       "      <td>-1.122366</td>\n",
       "      <td>0.304205</td>\n",
       "      <td>1.409463</td>\n",
       "      <td>-0.084788</td>\n",
       "      <td>-0.181861</td>\n",
       "      <td>-0.005441</td>\n",
       "    </tr>\n",
       "    <tr>\n",
       "      <th>3</th>\n",
       "      <td>-1.354712</td>\n",
       "      <td>-0.483802</td>\n",
       "      <td>0.992494</td>\n",
       "      <td>-0.084788</td>\n",
       "      <td>-0.181861</td>\n",
       "      <td>0.651452</td>\n",
       "    </tr>\n",
       "    <tr>\n",
       "      <th>4</th>\n",
       "      <td>-1.412798</td>\n",
       "      <td>0.304205</td>\n",
       "      <td>1.805960</td>\n",
       "      <td>-0.084788</td>\n",
       "      <td>-0.181861</td>\n",
       "      <td>-0.005441</td>\n",
       "    </tr>\n",
       "    <tr>\n",
       "      <th>...</th>\n",
       "      <td>...</td>\n",
       "      <td>...</td>\n",
       "      <td>...</td>\n",
       "      <td>...</td>\n",
       "      <td>...</td>\n",
       "      <td>...</td>\n",
       "    </tr>\n",
       "    <tr>\n",
       "      <th>87643</th>\n",
       "      <td>-0.570545</td>\n",
       "      <td>-0.152010</td>\n",
       "      <td>0.357827</td>\n",
       "      <td>-0.084788</td>\n",
       "      <td>-0.181861</td>\n",
       "      <td>-0.910672</td>\n",
       "    </tr>\n",
       "    <tr>\n",
       "      <th>87644</th>\n",
       "      <td>-1.180452</td>\n",
       "      <td>-0.898543</td>\n",
       "      <td>0.415151</td>\n",
       "      <td>-0.084788</td>\n",
       "      <td>-0.181861</td>\n",
       "      <td>-1.303206</td>\n",
       "    </tr>\n",
       "    <tr>\n",
       "      <th>87645</th>\n",
       "      <td>-0.860977</td>\n",
       "      <td>-0.152010</td>\n",
       "      <td>0.684714</td>\n",
       "      <td>-0.084788</td>\n",
       "      <td>-0.181861</td>\n",
       "      <td>-0.910672</td>\n",
       "    </tr>\n",
       "    <tr>\n",
       "      <th>87646</th>\n",
       "      <td>-0.860977</td>\n",
       "      <td>-0.152010</td>\n",
       "      <td>0.684714</td>\n",
       "      <td>-0.084788</td>\n",
       "      <td>-0.181861</td>\n",
       "      <td>-0.910672</td>\n",
       "    </tr>\n",
       "    <tr>\n",
       "      <th>87647</th>\n",
       "      <td>-1.441841</td>\n",
       "      <td>-0.732646</td>\n",
       "      <td>0.859418</td>\n",
       "      <td>-0.084788</td>\n",
       "      <td>-0.181861</td>\n",
       "      <td>-0.910672</td>\n",
       "    </tr>\n",
       "  </tbody>\n",
       "</table>\n",
       "<p>87648 rows × 6 columns</p>\n",
       "</div>"
      ],
      "text/plain": [
       "           temp       dew  humidity    precip  precipprob  cloudcover\n",
       "0     -1.122366  0.304205  1.409463 -0.084788   -0.181861   -0.005441\n",
       "1     -1.122366  0.304205  1.409463 -0.084788   -0.181861   -0.005441\n",
       "2     -1.122366  0.304205  1.409463 -0.084788   -0.181861   -0.005441\n",
       "3     -1.354712 -0.483802  0.992494 -0.084788   -0.181861    0.651452\n",
       "4     -1.412798  0.304205  1.805960 -0.084788   -0.181861   -0.005441\n",
       "...         ...       ...       ...       ...         ...         ...\n",
       "87643 -0.570545 -0.152010  0.357827 -0.084788   -0.181861   -0.910672\n",
       "87644 -1.180452 -0.898543  0.415151 -0.084788   -0.181861   -1.303206\n",
       "87645 -0.860977 -0.152010  0.684714 -0.084788   -0.181861   -0.910672\n",
       "87646 -0.860977 -0.152010  0.684714 -0.084788   -0.181861   -0.910672\n",
       "87647 -1.441841 -0.732646  0.859418 -0.084788   -0.181861   -0.910672\n",
       "\n",
       "[87648 rows x 6 columns]"
      ]
     },
     "execution_count": 15,
     "metadata": {},
     "output_type": "execute_result"
    }
   ],
   "source": [
    "from sklearn.preprocessing import StandardScaler\n",
    "\n",
    "scaler = StandardScaler()\n",
    "df_standardized = pd.DataFrame(scaler.fit_transform(numeric_weather), columns=numeric_weather.columns)\n",
    "df_standardized"
   ]
  },
  {
   "cell_type": "code",
   "execution_count": 16,
   "metadata": {},
   "outputs": [
    {
     "data": {
      "text/html": [
       "<div>\n",
       "<style scoped>\n",
       "    .dataframe tbody tr th:only-of-type {\n",
       "        vertical-align: middle;\n",
       "    }\n",
       "\n",
       "    .dataframe tbody tr th {\n",
       "        vertical-align: top;\n",
       "    }\n",
       "\n",
       "    .dataframe thead th {\n",
       "        text-align: right;\n",
       "    }\n",
       "</style>\n",
       "<table border=\"1\" class=\"dataframe\">\n",
       "  <thead>\n",
       "    <tr style=\"text-align: right;\">\n",
       "      <th></th>\n",
       "      <th>temp</th>\n",
       "      <th>dew</th>\n",
       "      <th>humidity</th>\n",
       "      <th>precip</th>\n",
       "      <th>precipprob</th>\n",
       "      <th>cloudcover</th>\n",
       "      <th>Seconds</th>\n",
       "      <th>Day sin</th>\n",
       "      <th>Day cos</th>\n",
       "      <th>Year sin</th>\n",
       "      <th>Year cos</th>\n",
       "    </tr>\n",
       "  </thead>\n",
       "  <tbody>\n",
       "    <tr>\n",
       "      <th>0</th>\n",
       "      <td>-1.122366</td>\n",
       "      <td>0.304205</td>\n",
       "      <td>1.409463</td>\n",
       "      <td>-0.084788</td>\n",
       "      <td>-0.181861</td>\n",
       "      <td>-0.005441</td>\n",
       "      <td>1.356998e+09</td>\n",
       "      <td>-8.039063e-12</td>\n",
       "      <td>1.000000</td>\n",
       "      <td>0.009848</td>\n",
       "      <td>0.999952</td>\n",
       "    </tr>\n",
       "    <tr>\n",
       "      <th>1</th>\n",
       "      <td>-1.122366</td>\n",
       "      <td>0.304205</td>\n",
       "      <td>1.409463</td>\n",
       "      <td>-0.084788</td>\n",
       "      <td>-0.181861</td>\n",
       "      <td>-0.005441</td>\n",
       "      <td>1.357002e+09</td>\n",
       "      <td>2.588190e-01</td>\n",
       "      <td>0.965926</td>\n",
       "      <td>0.010565</td>\n",
       "      <td>0.999944</td>\n",
       "    </tr>\n",
       "    <tr>\n",
       "      <th>2</th>\n",
       "      <td>-1.122366</td>\n",
       "      <td>0.304205</td>\n",
       "      <td>1.409463</td>\n",
       "      <td>-0.084788</td>\n",
       "      <td>-0.181861</td>\n",
       "      <td>-0.005441</td>\n",
       "      <td>1.357006e+09</td>\n",
       "      <td>5.000000e-01</td>\n",
       "      <td>0.866025</td>\n",
       "      <td>0.011282</td>\n",
       "      <td>0.999936</td>\n",
       "    </tr>\n",
       "    <tr>\n",
       "      <th>3</th>\n",
       "      <td>-1.354712</td>\n",
       "      <td>-0.483802</td>\n",
       "      <td>0.992494</td>\n",
       "      <td>-0.084788</td>\n",
       "      <td>-0.181861</td>\n",
       "      <td>0.651452</td>\n",
       "      <td>1.357009e+09</td>\n",
       "      <td>7.071068e-01</td>\n",
       "      <td>0.707107</td>\n",
       "      <td>0.011999</td>\n",
       "      <td>0.999928</td>\n",
       "    </tr>\n",
       "    <tr>\n",
       "      <th>4</th>\n",
       "      <td>-1.412798</td>\n",
       "      <td>0.304205</td>\n",
       "      <td>1.805960</td>\n",
       "      <td>-0.084788</td>\n",
       "      <td>-0.181861</td>\n",
       "      <td>-0.005441</td>\n",
       "      <td>1.357013e+09</td>\n",
       "      <td>8.660254e-01</td>\n",
       "      <td>0.500000</td>\n",
       "      <td>0.012715</td>\n",
       "      <td>0.999919</td>\n",
       "    </tr>\n",
       "  </tbody>\n",
       "</table>\n",
       "</div>"
      ],
      "text/plain": [
       "       temp       dew  humidity    precip  precipprob  cloudcover  \\\n",
       "0 -1.122366  0.304205  1.409463 -0.084788   -0.181861   -0.005441   \n",
       "1 -1.122366  0.304205  1.409463 -0.084788   -0.181861   -0.005441   \n",
       "2 -1.122366  0.304205  1.409463 -0.084788   -0.181861   -0.005441   \n",
       "3 -1.354712 -0.483802  0.992494 -0.084788   -0.181861    0.651452   \n",
       "4 -1.412798  0.304205  1.805960 -0.084788   -0.181861   -0.005441   \n",
       "\n",
       "        Seconds       Day sin   Day cos  Year sin  Year cos  \n",
       "0  1.356998e+09 -8.039063e-12  1.000000  0.009848  0.999952  \n",
       "1  1.357002e+09  2.588190e-01  0.965926  0.010565  0.999944  \n",
       "2  1.357006e+09  5.000000e-01  0.866025  0.011282  0.999936  \n",
       "3  1.357009e+09  7.071068e-01  0.707107  0.011999  0.999928  \n",
       "4  1.357013e+09  8.660254e-01  0.500000  0.012715  0.999919  "
      ]
     },
     "execution_count": 16,
     "metadata": {},
     "output_type": "execute_result"
    }
   ],
   "source": [
    "day = 60*60*24\n",
    "year = 365.2425*day\n",
    "\n",
    "df_standardized['Seconds'] = numeric_weather.index.map(pd.Timestamp.timestamp)\n",
    "\n",
    "\n",
    "df_standardized['Day sin'] = np.sin(df_standardized['Seconds'] * (2* np.pi / day))\n",
    "df_standardized['Day cos'] = np.cos(df_standardized['Seconds'] * (2 * np.pi / day))\n",
    "df_standardized['Year sin'] = np.sin(df_standardized['Seconds'] * (2 * np.pi / year))\n",
    "df_standardized['Year cos'] = np.cos(df_standardized['Seconds'] * (2 * np.pi / year))\n",
    "df_standardized.head()"
   ]
  },
  {
   "cell_type": "code",
   "execution_count": 17,
   "metadata": {},
   "outputs": [
    {
     "data": {
      "text/html": [
       "<div>\n",
       "<style scoped>\n",
       "    .dataframe tbody tr th:only-of-type {\n",
       "        vertical-align: middle;\n",
       "    }\n",
       "\n",
       "    .dataframe tbody tr th {\n",
       "        vertical-align: top;\n",
       "    }\n",
       "\n",
       "    .dataframe thead th {\n",
       "        text-align: right;\n",
       "    }\n",
       "</style>\n",
       "<table border=\"1\" class=\"dataframe\">\n",
       "  <thead>\n",
       "    <tr style=\"text-align: right;\">\n",
       "      <th></th>\n",
       "      <th>temp</th>\n",
       "      <th>dew</th>\n",
       "      <th>humidity</th>\n",
       "      <th>precip</th>\n",
       "      <th>precipprob</th>\n",
       "      <th>cloudcover</th>\n",
       "      <th>Day sin</th>\n",
       "      <th>Day cos</th>\n",
       "      <th>Year sin</th>\n",
       "      <th>Year cos</th>\n",
       "    </tr>\n",
       "  </thead>\n",
       "  <tbody>\n",
       "    <tr>\n",
       "      <th>0</th>\n",
       "      <td>-1.122366</td>\n",
       "      <td>0.304205</td>\n",
       "      <td>1.409463</td>\n",
       "      <td>-0.084788</td>\n",
       "      <td>-0.181861</td>\n",
       "      <td>-0.005441</td>\n",
       "      <td>-8.039063e-12</td>\n",
       "      <td>1.000000</td>\n",
       "      <td>0.009848</td>\n",
       "      <td>0.999952</td>\n",
       "    </tr>\n",
       "    <tr>\n",
       "      <th>1</th>\n",
       "      <td>-1.122366</td>\n",
       "      <td>0.304205</td>\n",
       "      <td>1.409463</td>\n",
       "      <td>-0.084788</td>\n",
       "      <td>-0.181861</td>\n",
       "      <td>-0.005441</td>\n",
       "      <td>2.588190e-01</td>\n",
       "      <td>0.965926</td>\n",
       "      <td>0.010565</td>\n",
       "      <td>0.999944</td>\n",
       "    </tr>\n",
       "    <tr>\n",
       "      <th>2</th>\n",
       "      <td>-1.122366</td>\n",
       "      <td>0.304205</td>\n",
       "      <td>1.409463</td>\n",
       "      <td>-0.084788</td>\n",
       "      <td>-0.181861</td>\n",
       "      <td>-0.005441</td>\n",
       "      <td>5.000000e-01</td>\n",
       "      <td>0.866025</td>\n",
       "      <td>0.011282</td>\n",
       "      <td>0.999936</td>\n",
       "    </tr>\n",
       "    <tr>\n",
       "      <th>3</th>\n",
       "      <td>-1.354712</td>\n",
       "      <td>-0.483802</td>\n",
       "      <td>0.992494</td>\n",
       "      <td>-0.084788</td>\n",
       "      <td>-0.181861</td>\n",
       "      <td>0.651452</td>\n",
       "      <td>7.071068e-01</td>\n",
       "      <td>0.707107</td>\n",
       "      <td>0.011999</td>\n",
       "      <td>0.999928</td>\n",
       "    </tr>\n",
       "    <tr>\n",
       "      <th>4</th>\n",
       "      <td>-1.412798</td>\n",
       "      <td>0.304205</td>\n",
       "      <td>1.805960</td>\n",
       "      <td>-0.084788</td>\n",
       "      <td>-0.181861</td>\n",
       "      <td>-0.005441</td>\n",
       "      <td>8.660254e-01</td>\n",
       "      <td>0.500000</td>\n",
       "      <td>0.012715</td>\n",
       "      <td>0.999919</td>\n",
       "    </tr>\n",
       "  </tbody>\n",
       "</table>\n",
       "</div>"
      ],
      "text/plain": [
       "       temp       dew  humidity    precip  precipprob  cloudcover  \\\n",
       "0 -1.122366  0.304205  1.409463 -0.084788   -0.181861   -0.005441   \n",
       "1 -1.122366  0.304205  1.409463 -0.084788   -0.181861   -0.005441   \n",
       "2 -1.122366  0.304205  1.409463 -0.084788   -0.181861   -0.005441   \n",
       "3 -1.354712 -0.483802  0.992494 -0.084788   -0.181861    0.651452   \n",
       "4 -1.412798  0.304205  1.805960 -0.084788   -0.181861   -0.005441   \n",
       "\n",
       "        Day sin   Day cos  Year sin  Year cos  \n",
       "0 -8.039063e-12  1.000000  0.009848  0.999952  \n",
       "1  2.588190e-01  0.965926  0.010565  0.999944  \n",
       "2  5.000000e-01  0.866025  0.011282  0.999936  \n",
       "3  7.071068e-01  0.707107  0.011999  0.999928  \n",
       "4  8.660254e-01  0.500000  0.012715  0.999919  "
      ]
     },
     "execution_count": 17,
     "metadata": {},
     "output_type": "execute_result"
    }
   ],
   "source": [
    "df_standardized = df_standardized.drop('Seconds', axis=1)\n",
    "df_standardized.head()"
   ]
  },
  {
   "cell_type": "code",
   "execution_count": 18,
   "metadata": {},
   "outputs": [
    {
     "name": "stdout",
     "output_type": "stream",
     "text": [
      "-1.6602678017030454e-16\n",
      "1.0000057046855437\n"
     ]
    }
   ],
   "source": [
    "mean = df_standardized['humidity'].mean()\n",
    "std = df_standardized['humidity'].std()\n",
    "print(mean)\n",
    "print(std)"
   ]
  },
  {
   "cell_type": "code",
   "execution_count": 19,
   "metadata": {},
   "outputs": [
    {
     "data": {
      "text/plain": [
       "72.29420928562786"
      ]
     },
     "execution_count": 19,
     "metadata": {},
     "output_type": "execute_result"
    }
   ],
   "source": [
    "original = (-0.084788 * 14.653429953092884 ) + 73.5366443044907\n",
    "original"
   ]
  },
  {
   "cell_type": "code",
   "execution_count": 20,
   "metadata": {},
   "outputs": [
    {
     "data": {
      "text/plain": [
       "temp          0.0\n",
       "dew           0.0\n",
       "humidity      0.0\n",
       "precip        0.0\n",
       "precipprob    0.0\n",
       "cloudcover    0.0\n",
       "dtype: float64"
      ]
     },
     "execution_count": 20,
     "metadata": {},
     "output_type": "execute_result"
    }
   ],
   "source": [
    "null_pct = numeric_weather.apply(pd.isnull).sum() / df.shape[0]\n",
    "null_pct"
   ]
  },
  {
   "cell_type": "code",
   "execution_count": 21,
   "metadata": {},
   "outputs": [
    {
     "data": {
      "text/plain": [
       "datetime\n",
       "2013-01-01 00:00:00    0.0\n",
       "2013-01-01 01:00:00    0.0\n",
       "2013-01-01 02:00:00    0.0\n",
       "2013-01-01 03:00:00    0.0\n",
       "2013-01-01 04:00:00    0.0\n",
       "                      ... \n",
       "2022-12-31 19:00:00    0.0\n",
       "2022-12-31 20:00:00    0.0\n",
       "2022-12-31 21:00:00    0.0\n",
       "2022-12-31 22:00:00    0.0\n",
       "2022-12-31 23:00:00    0.0\n",
       "Name: precip, Length: 87648, dtype: float64"
      ]
     },
     "execution_count": 21,
     "metadata": {},
     "output_type": "execute_result"
    }
   ],
   "source": [
    "precip = df['precip'].copy()\n",
    "precip"
   ]
  },
  {
   "cell_type": "code",
   "execution_count": 22,
   "metadata": {},
   "outputs": [
    {
     "data": {
      "text/plain": [
       "<Axes: xlabel='datetime'>"
      ]
     },
     "execution_count": 22,
     "metadata": {},
     "output_type": "execute_result"
    },
    {
     "data": {
      "image/png": "[encoded data removed]",
      "text/plain": [
       "<Figure size 640x480 with 1 Axes>"
      ]
     },
     "metadata": {},
     "output_type": "display_data"
    }
   ],
   "source": [
    "precip.plot()"
   ]
  },
  {
   "cell_type": "code",
   "execution_count": 23,
   "metadata": {},
   "outputs": [
    {
     "data": {
      "image/png": "[encoded data removed]",
      "text/plain": [
       "<Figure size 640x480 with 1 Axes>"
      ]
     },
     "metadata": {},
     "output_type": "display_data"
    }
   ],
   "source": [
    "from sklearn.preprocessing import StandardScaler\n",
    "\n",
    "numpy_array = precip.to_numpy()\n",
    "numpy_array = numpy_array.reshape(-1, 1)\n",
    "scaler = StandardScaler()\n",
    "standardized_data = scaler.fit_transform(numpy_array)\n",
    "standardized_series = pd.Series(standardized_data.flatten(), name='my_series_standardized')\n",
    "standardized_series.plot()\n",
    "plt.show()\n"
   ]
  },
  {
   "cell_type": "code",
   "execution_count": 24,
   "metadata": {},
   "outputs": [],
   "source": [
    "def df_to_X_y2(df, window_size=6):\n",
    "  df_as_np = df.to_numpy()\n",
    "  X = []\n",
    "  y = []\n",
    "  for i in range(len(df_as_np)-window_size):\n",
    "    row = [r for r in df_as_np[i:i+window_size]]\n",
    "    X.append(row)\n",
    "    label = df_as_np[i+window_size][3]\n",
    "    y.append(label)\n",
    "  return np.array(X), np.array(y)"
   ]
  },
  {
   "cell_type": "code",
   "execution_count": 25,
   "metadata": {},
   "outputs": [
    {
     "data": {
      "text/plain": [
       "((87598, 50, 10), (87598,))"
      ]
     },
     "execution_count": 25,
     "metadata": {},
     "output_type": "execute_result"
    }
   ],
   "source": [
    "WINDOW_SIZE = 50\n",
    "X, y = df_to_X_y2(df_standardized, WINDOW_SIZE)\n",
    "X.shape, y.shape"
   ]
  },
  {
   "cell_type": "code",
   "execution_count": 26,
   "metadata": {},
   "outputs": [
    {
     "name": "stdout",
     "output_type": "stream",
     "text": [
      "70118 78883 87648\n"
     ]
    },
    {
     "data": {
      "text/plain": [
       "((70118, 50, 10), (70118,), (8765, 50, 10), (8765,), (8715, 50, 10), (8715,))"
      ]
     },
     "execution_count": 26,
     "metadata": {},
     "output_type": "execute_result"
    }
   ],
   "source": [
    "trn_upper = int(len(precip) * 0.8)\n",
    "valid_upper = int(len(precip) * 0.9)\n",
    "upper = len(precip)\n",
    "\n",
    "print(trn_upper,valid_upper,upper)\n",
    "\n",
    "X_train, y_train = X[:trn_upper], y[:trn_upper]\n",
    "X_val, y_val = X[trn_upper:valid_upper], y[trn_upper:valid_upper]\n",
    "X_test, y_test = X[valid_upper:], y[valid_upper:]\n",
    "X_train.shape, y_train.shape, X_val.shape, y_val.shape, X_test.shape, y_test.shape"
   ]
  },
  {
   "cell_type": "code",
   "execution_count": 27,
   "metadata": {},
   "outputs": [
    {
     "data": {
      "text/plain": [
       "array([[-1.12236579e+00,  3.04205129e-01,  1.40946342e+00,\n",
       "        -8.47884537e-02, -1.81860502e-01, -5.44118011e-03,\n",
       "        -8.03906267e-12,  1.00000000e+00,  9.84843067e-03,\n",
       "         9.99951503e-01],\n",
       "       [-1.12236579e+00,  3.04205129e-01,  1.40946342e+00,\n",
       "        -8.47884537e-02, -1.81860502e-01, -5.44118011e-03,\n",
       "         2.58819045e-01,  9.65925826e-01,  1.05651757e-02,\n",
       "         9.99944187e-01],\n",
       "       [-1.12236579e+00,  3.04205129e-01,  1.40946342e+00,\n",
       "        -8.47884537e-02, -1.81860502e-01, -5.44118011e-03,\n",
       "         5.00000000e-01,  8.66025404e-01,  1.12819153e-02,\n",
       "         9.99936357e-01],\n",
       "       [-1.35471158e+00, -4.83802101e-01,  9.92493819e-01,\n",
       "        -8.47884537e-02, -1.81860502e-01,  6.51452138e-01,\n",
       "         7.07106781e-01,  7.07106781e-01,  1.19986491e-02,\n",
       "         9.99928014e-01],\n",
       "       [-1.41279802e+00,  3.04205129e-01,  1.80595988e+00,\n",
       "        -8.47884537e-02, -1.81860502e-01, -5.44118011e-03,\n",
       "         8.66025404e-01,  5.00000000e-01,  1.27153767e-02,\n",
       "         9.99919156e-01],\n",
       "       [-1.41279802e+00,  3.04205129e-01,  1.80595988e+00,\n",
       "        -8.47884537e-02, -1.81860502e-01, -5.44118011e-03,\n",
       "         9.65925826e-01,  2.58819045e-01,  1.34320978e-02,\n",
       "         9.99909785e-01],\n",
       "       [-1.41279802e+00, -1.10535518e-01,  1.40673367e+00,\n",
       "        -8.47884537e-02, -1.81860502e-01, -5.44118011e-03,\n",
       "         1.00000000e+00,  1.06024068e-11,  1.41488120e-02,\n",
       "         9.99899901e-01],\n",
       "       [-1.70323026e+00, -1.10535518e-01,  1.80595988e+00,\n",
       "        -8.47884537e-02, -1.81860502e-01, -5.44118011e-03,\n",
       "         9.65925826e-01, -2.58819045e-01,  1.48655190e-02,\n",
       "         9.99889502e-01],\n",
       "       [-1.41279802e+00,  3.04205129e-01,  1.80595988e+00,\n",
       "        -8.47884537e-02, -1.81860502e-01, -5.44118011e-03,\n",
       "         8.66025404e-01, -5.00000000e-01,  1.55822183e-02,\n",
       "         9.99878590e-01],\n",
       "       [-5.70544534e-01, -5.25276166e-01,  7.12025547e-02,\n",
       "        -8.47884537e-02, -1.81860502e-01,  1.45860552e-02,\n",
       "         7.07106781e-01, -7.07106781e-01,  1.62989095e-02,\n",
       "         9.99867164e-01],\n",
       "       [-5.41501310e-01, -1.10535518e-01,  3.58508942e-01,\n",
       "        -8.47884537e-02, -1.81860502e-01, -5.44118011e-03,\n",
       "         5.00000000e-01, -8.66025404e-01,  1.70155925e-02,\n",
       "         9.99855224e-01],\n",
       "       [ 3.93631644e-02, -5.25276166e-01, -5.15011665e-01,\n",
       "        -8.47884537e-02, -1.81860502e-01, -5.44118011e-03,\n",
       "         2.58819045e-01, -9.65925826e-01,  1.77322666e-02,\n",
       "         9.99842771e-01],\n",
       "       [ 3.93631644e-02, -5.25276166e-01, -5.15011665e-01,\n",
       "        -8.47884537e-02, -1.81860502e-01, -5.44118011e-03,\n",
       "        -1.38616426e-12, -1.00000000e+00,  1.84489317e-02,\n",
       "         9.99829804e-01],\n",
       "       [ 3.29795402e-01, -5.25276166e-01, -7.67513715e-01,\n",
       "        -8.47884537e-02, -1.81860502e-01, -5.44118011e-03,\n",
       "        -2.58819045e-01, -9.65925826e-01,  1.91655873e-02,\n",
       "         9.99816323e-01],\n",
       "       [ 3.29795402e-01, -5.25276166e-01, -7.67513715e-01,\n",
       "        -8.47884537e-02, -1.81860502e-01, -5.44118011e-03,\n",
       "        -5.00000000e-01, -8.66025404e-01,  1.98822330e-02,\n",
       "         9.99802329e-01],\n",
       "       [ 3.29795402e-01, -5.25276166e-01, -7.67513715e-01,\n",
       "        -8.47884537e-02, -1.81860502e-01, -5.44118011e-03,\n",
       "        -7.07106781e-01, -7.07106781e-01,  2.05988685e-02,\n",
       "         9.99787821e-01],\n",
       "       [ 3.93631644e-02, -5.25276166e-01, -5.15011665e-01,\n",
       "        -8.47884537e-02, -1.81860502e-01, -8.06530592e-01,\n",
       "        -8.66025404e-01, -5.00000000e-01,  2.13154935e-02,\n",
       "         9.99772799e-01],\n",
       "       [-2.51069073e-01, -5.25276166e-01, -2.46131103e-01,\n",
       "        -8.47884537e-02, -1.81860502e-01, -8.06530592e-01,\n",
       "        -9.65925826e-01, -2.58819045e-01,  2.20321075e-02,\n",
       "         9.99757264e-01],\n",
       "       [-5.41501310e-01, -5.25276166e-01,  4.18577218e-02,\n",
       "        -8.47884537e-02, -1.81860502e-01, -8.06530592e-01,\n",
       "        -1.00000000e+00, -1.17717989e-12,  2.27487101e-02,\n",
       "         9.99741215e-01],\n",
       "       [-1.12236579e+00, -5.25276166e-01,  6.77207475e-01,\n",
       "        -8.47884537e-02, -1.81860502e-01, -8.06530592e-01,\n",
       "        -9.65925826e-01,  2.58819045e-01,  2.34653011e-02,\n",
       "         9.99724652e-01],\n",
       "       [-1.12236579e+00, -5.25276166e-01,  6.77207475e-01,\n",
       "        -8.47884537e-02, -1.81860502e-01, -8.06530592e-01,\n",
       "        -8.66025404e-01,  5.00000000e-01,  2.41818800e-02,\n",
       "         9.99707576e-01],\n",
       "       [-1.12236579e+00, -5.25276166e-01,  6.77207475e-01,\n",
       "        -8.47884537e-02, -1.81860502e-01, -8.06530592e-01,\n",
       "        -7.07106781e-01,  7.07106781e-01,  2.48984465e-02,\n",
       "         9.99689986e-01],\n",
       "       [-1.41279802e+00, -5.25276166e-01,  1.02798059e+00,\n",
       "        -8.47884537e-02, -1.81860502e-01, -8.06530592e-01,\n",
       "        -5.00000000e-01,  8.66025404e-01,  2.56150003e-02,\n",
       "         9.99671882e-01],\n",
       "       [-1.41279802e+00, -5.25276166e-01,  1.02798059e+00,\n",
       "        -8.47884537e-02, -1.81860502e-01, -8.06530592e-01,\n",
       "        -2.58819045e-01,  9.65925826e-01,  2.63315408e-02,\n",
       "         9.99653265e-01],\n",
       "       [-1.70323026e+00, -5.25276166e-01,  1.40400392e+00,\n",
       "        -8.47884537e-02, -1.81860502e-01, -8.06530592e-01,\n",
       "        -3.74052404e-12,  1.00000000e+00,  2.70480678e-02,\n",
       "         9.99634134e-01],\n",
       "       [-1.84844638e+00, -1.02296494e+00,  1.13239360e+00,\n",
       "        -8.47884537e-02, -1.81860502e-01,  6.57516107e-03,\n",
       "         2.58819045e-01,  9.65925826e-01,  2.77645809e-02,\n",
       "         9.99614490e-01],\n",
       "       [-1.70323026e+00, -5.25276166e-01,  1.40400392e+00,\n",
       "        -8.47884537e-02, -1.81860502e-01, -5.44118011e-03,\n",
       "         5.00000000e-01,  8.66025404e-01,  2.84810798e-02,\n",
       "         9.99594332e-01],\n",
       "       [-1.70323026e+00, -5.25276166e-01,  1.40400392e+00,\n",
       "        -8.47884537e-02, -1.81860502e-01, -5.44118011e-03,\n",
       "         7.07106781e-01,  7.07106781e-01,  2.91975640e-02,\n",
       "         9.99573660e-01],\n",
       "       [-1.70323026e+00, -5.25276166e-01,  1.40400392e+00,\n",
       "        -8.47884537e-02, -1.81860502e-01, -8.06530592e-01,\n",
       "         8.66025404e-01,  5.00000000e-01,  2.99140332e-02,\n",
       "         9.99552475e-01],\n",
       "       [-1.70323026e+00, -5.25276166e-01,  1.40400392e+00,\n",
       "        -8.47884537e-02, -1.81860502e-01, -8.06530592e-01,\n",
       "         9.65925826e-01,  2.58819045e-01,  3.06304871e-02,\n",
       "         9.99530777e-01],\n",
       "       [-1.99366250e+00, -5.25276166e-01,  1.80595988e+00,\n",
       "        -8.47884537e-02, -1.81860502e-01, -8.06530592e-01,\n",
       "         1.00000000e+00,  6.30386820e-12,  3.13469252e-02,\n",
       "         9.99508564e-01],\n",
       "       [-1.99366250e+00, -5.25276166e-01,  1.80595988e+00,\n",
       "        -8.47884537e-02, -1.81860502e-01, -8.06530592e-01,\n",
       "         9.65925826e-01, -2.58819045e-01,  3.20633472e-02,\n",
       "         9.99485839e-01],\n",
       "       [-1.99366250e+00, -5.25276166e-01,  1.80595988e+00,\n",
       "        -8.47884537e-02, -1.81860502e-01, -8.06530592e-01,\n",
       "         8.66025404e-01, -5.00000000e-01,  3.27797528e-02,\n",
       "         9.99462600e-01],\n",
       "       [-1.00619289e+00, -1.10591307e+00,  8.55337521e-02,\n",
       "        -8.47884537e-02, -1.81860502e-01, -1.25604592e-01,\n",
       "         7.07106781e-01, -7.07106781e-01,  3.34961415e-02,\n",
       "         9.99438847e-01],\n",
       "       [-1.12236579e+00, -1.10535518e-01,  1.03344010e+00,\n",
       "        -8.47884537e-02, -1.81860502e-01, -8.06530592e-01,\n",
       "         5.00000000e-01, -8.66025404e-01,  3.42125130e-02,\n",
       "         9.99414581e-01],\n",
       "       [-5.41501310e-01, -1.10591307e+00, -3.74429442e-01,\n",
       "        -8.47884537e-02, -1.81860502e-01,  6.47446690e-01,\n",
       "         2.58819045e-01, -9.65925826e-01,  3.49288669e-02,\n",
       "         9.99389801e-01],\n",
       "       [-2.51069073e-01, -5.25276166e-01, -2.46131103e-01,\n",
       "        -8.47884537e-02, -1.81860502e-01, -8.06530592e-01,\n",
       "         8.86721235e-12, -1.00000000e+00,  3.56452028e-02,\n",
       "         9.99364508e-01],\n",
       "       [ 3.93631644e-02, -5.25276166e-01, -5.15011665e-01,\n",
       "        -8.47884537e-02, -1.81860502e-01, -8.06530592e-01,\n",
       "        -2.58819045e-01, -9.65925826e-01,  3.63615205e-02,\n",
       "         9.99338701e-01],\n",
       "       [-3.38198744e-01, -1.06443901e+00, -5.33437490e-01,\n",
       "        -8.47884537e-02, -1.81860502e-01, -7.54459780e-01,\n",
       "        -5.00000000e-01, -8.66025404e-01,  3.70778194e-02,\n",
       "         9.99312381e-01],\n",
       "       [ 3.29795402e-01, -1.35475746e+00, -1.25886906e+00,\n",
       "        -8.47884537e-02, -1.81860502e-01, -8.06530592e-01,\n",
       "        -7.07106781e-01, -7.07106781e-01,  3.77940994e-02,\n",
       "         9.99285548e-01],\n",
       "       [ 3.93631644e-02, -9.40016814e-01, -7.82527351e-01,\n",
       "        -8.47884537e-02, -1.81860502e-01, -8.06530592e-01,\n",
       "        -8.66025404e-01, -5.00000000e-01,  3.85103599e-02,\n",
       "         9.99258201e-01],\n",
       "       [-2.51069073e-01, -5.25276166e-01, -2.46131103e-01,\n",
       "        -8.47884537e-02, -1.81860502e-01, -8.06530592e-01,\n",
       "        -9.65925826e-01, -2.58819045e-01,  3.92266006e-02,\n",
       "         9.99230341e-01],\n",
       "       [-1.23853868e+00, -8.15594620e-01,  5.70747152e-01,\n",
       "        -8.47884537e-02, -1.81860502e-01, -1.45631827e-01,\n",
       "        -1.00000000e+00, -1.14305565e-11,  3.99428211e-02,\n",
       "         9.99201967e-01],\n",
       "       [-1.12236579e+00, -5.25276166e-01,  6.77207475e-01,\n",
       "        -8.47884537e-02, -1.81860502e-01, -5.44118011e-03,\n",
       "        -9.65925826e-01,  2.58819045e-01,  4.06590212e-02,\n",
       "         9.99173080e-01],\n",
       "       [-1.12236579e+00, -5.25276166e-01,  6.77207475e-01,\n",
       "        -8.47884537e-02, -1.81860502e-01, -5.44118011e-03,\n",
       "        -8.66025404e-01,  5.00000000e-01,  4.13752003e-02,\n",
       "         9.99143680e-01],\n",
       "       [-1.12236579e+00, -5.25276166e-01,  6.77207475e-01,\n",
       "        -8.47884537e-02, -1.81860502e-01, -8.06530592e-01,\n",
       "        -7.07106781e-01,  7.07106781e-01,  4.20913582e-02,\n",
       "         9.99113766e-01],\n",
       "       [-1.12236579e+00, -5.25276166e-01,  6.77207475e-01,\n",
       "        -8.47884537e-02, -1.81860502e-01, -5.44118011e-03,\n",
       "        -5.00000000e-01,  8.66025404e-01,  4.28074945e-02,\n",
       "         9.99083339e-01],\n",
       "       [-1.41279802e+00, -1.10535518e-01,  1.40673367e+00,\n",
       "        -8.47884537e-02, -1.81860502e-01, -5.44118011e-03,\n",
       "        -2.58819045e-01,  9.65925826e-01,  4.35236088e-02,\n",
       "         9.99052399e-01],\n",
       "       [-1.41279802e+00, -1.10535518e-01,  1.40673367e+00,\n",
       "        -8.47884537e-02, -1.81860502e-01, -5.44118011e-03,\n",
       "         5.58014578e-13,  1.00000000e+00,  4.42397007e-02,\n",
       "         9.99020945e-01],\n",
       "       [-1.41279802e+00, -1.10535518e-01,  1.40673367e+00,\n",
       "        -8.47884537e-02, -1.81860502e-01, -8.06530592e-01,\n",
       "         2.58819045e-01,  9.65925826e-01,  4.49557699e-02,\n",
       "         9.98988978e-01]])"
      ]
     },
     "execution_count": 27,
     "metadata": {},
     "output_type": "execute_result"
    }
   ],
   "source": [
    "X_train[0]"
   ]
  },
  {
   "cell_type": "code",
   "execution_count": 28,
   "metadata": {},
   "outputs": [
    {
     "data": {
      "text/plain": [
       "-0.0847884537408429"
      ]
     },
     "execution_count": 28,
     "metadata": {},
     "output_type": "execute_result"
    }
   ],
   "source": [
    "y_train[0]"
   ]
  },
  {
   "cell_type": "code",
   "execution_count": 29,
   "metadata": {},
   "outputs": [],
   "source": [
    "# temp_training_mean = np.mean(X_train[:, :, 0])\n",
    "# temp_training_std = np.std(X_train[:, :, 0])\n",
    "\n",
    "# dew_training_mean = np.mean(X_train[:, :, 1])\n",
    "# dew_training_std = np.std(X_train[:, :, 1])\n",
    "\n",
    "# humidity_training_mean = np.mean(X_train[:, :, 2])\n",
    "# humidity_training_std = np.std(X_train[:, :, 2])\n",
    "\n",
    "# precip_training_mean = np.mean(X_train[:, :, 3])\n",
    "# precip_training_std = np.std(X_train[:, :, 3])\n",
    "\n",
    "# precipprob_training_mean = np.mean(X_train[:, :, 4])\n",
    "# precipprob_training_std = np.std(X_train[:, :, 4])\n",
    "\n",
    "# sealevelpressure_training_mean = np.mean(X_train[:, :, 5])\n",
    "# sealevelpressure_training_std = np.std(X_train[:, :, 5])\n",
    "\n",
    "# cloudcover_training_mean = np.mean(X_train[:, :, 6])\n",
    "# cloudcover_training_std = np.std(X_train[:, :, 6])\n",
    "\n",
    "# visibility_training_mean = np.mean(X_train[:, :, 7])\n",
    "# visibility_training_std = np.std(X_train[:, :, 7])\n",
    "\n",
    "                           \n",
    "# def preprocess(X, mean, std,position):\n",
    "#   X[:, :, position] = (X[:, :, position] - mean) / std\n",
    "#   return X\n",
    "\n",
    "\n"
   ]
  },
  {
   "cell_type": "code",
   "execution_count": 30,
   "metadata": {},
   "outputs": [],
   "source": [
    "# preprocess(X_train,temp_training_mean,temp_training_std,0)\n",
    "\n",
    "# preprocess(X_train,dew_training_mean,dew_training_std,1)\n",
    "\n",
    "# preprocess(X_train,humidity_training_mean,humidity_training_std,2)\n",
    "\n",
    "# preprocess(X_train,precip_training_mean,precip_training_std,3)\n",
    "\n",
    "# preprocess(X_train,precipprob_training_mean,precipprob_training_std,4)\n",
    "\n",
    "# preprocess(X_train,sealevelpressure_training_mean,sealevelpressure_training_std,5)\n",
    "\n",
    "# preprocess(X_train,cloudcover_training_mean,cloudcover_training_std,6)\n",
    "\n",
    "# preprocess(X,visibility_training_mean,visibility_training_std,7)\n",
    "# #################################################################### val\n",
    "\n",
    "# preprocess(X_val,temp_training_mean,temp_training_std,0)\n",
    "\n",
    "# preprocess(X_val,dew_training_mean,dew_training_std,1)\n",
    "\n",
    "# preprocess(X_val,humidity_training_mean,humidity_training_std,2)\n",
    "\n",
    "# preprocess(X_val,precip_training_mean,precip_training_std,3)\n",
    "\n",
    "# preprocess(X_val,precipprob_training_mean,precipprob_training_std,4)\n",
    "\n",
    "# preprocess(X_val,sealevelpressure_training_mean,sealevelpressure_training_std,5)\n",
    "\n",
    "# preprocess(X_val,cloudcover_training_mean,cloudcover_training_std,6)\n",
    "\n",
    "# preprocess(X_val,visibility_training_mean,visibility_training_std,7)\n",
    "\n",
    "# #########################################################################\n",
    "# preprocess(X_test,temp_training_mean,temp_training_std,0)\n",
    "# preprocess(X_test,dew_training_mean,dew_training_std,1)\n",
    "# preprocess(X_test,humidity_training_mean,humidity_training_std,2)\n",
    "# preprocess(X_test,precip_training_mean,precip_training_std,3)\n",
    "# preprocess(X_test,precipprob_training_mean,precipprob_training_std,4)\n",
    "# preprocess(X_test,sealevelpressure_training_mean,sealevelpressure_training_std,5)\n",
    "# preprocess(X_test,cloudcover_training_mean,cloudcover_training_std,6)\n",
    "# preprocess(X_test,visibility_training_mean,visibility_training_std,7)\n",
    "\n"
   ]
  },
  {
   "cell_type": "code",
   "execution_count": 31,
   "metadata": {},
   "outputs": [
    {
     "data": {
      "text/plain": [
       "array([[-1.12236579e+00,  3.04205129e-01,  1.40946342e+00,\n",
       "        -8.47884537e-02, -1.81860502e-01, -5.44118011e-03,\n",
       "        -8.03906267e-12,  1.00000000e+00,  9.84843067e-03,\n",
       "         9.99951503e-01],\n",
       "       [-1.12236579e+00,  3.04205129e-01,  1.40946342e+00,\n",
       "        -8.47884537e-02, -1.81860502e-01, -5.44118011e-03,\n",
       "         2.58819045e-01,  9.65925826e-01,  1.05651757e-02,\n",
       "         9.99944187e-01],\n",
       "       [-1.12236579e+00,  3.04205129e-01,  1.40946342e+00,\n",
       "        -8.47884537e-02, -1.81860502e-01, -5.44118011e-03,\n",
       "         5.00000000e-01,  8.66025404e-01,  1.12819153e-02,\n",
       "         9.99936357e-01],\n",
       "       [-1.35471158e+00, -4.83802101e-01,  9.92493819e-01,\n",
       "        -8.47884537e-02, -1.81860502e-01,  6.51452138e-01,\n",
       "         7.07106781e-01,  7.07106781e-01,  1.19986491e-02,\n",
       "         9.99928014e-01],\n",
       "       [-1.41279802e+00,  3.04205129e-01,  1.80595988e+00,\n",
       "        -8.47884537e-02, -1.81860502e-01, -5.44118011e-03,\n",
       "         8.66025404e-01,  5.00000000e-01,  1.27153767e-02,\n",
       "         9.99919156e-01],\n",
       "       [-1.41279802e+00,  3.04205129e-01,  1.80595988e+00,\n",
       "        -8.47884537e-02, -1.81860502e-01, -5.44118011e-03,\n",
       "         9.65925826e-01,  2.58819045e-01,  1.34320978e-02,\n",
       "         9.99909785e-01],\n",
       "       [-1.41279802e+00, -1.10535518e-01,  1.40673367e+00,\n",
       "        -8.47884537e-02, -1.81860502e-01, -5.44118011e-03,\n",
       "         1.00000000e+00,  1.06024068e-11,  1.41488120e-02,\n",
       "         9.99899901e-01],\n",
       "       [-1.70323026e+00, -1.10535518e-01,  1.80595988e+00,\n",
       "        -8.47884537e-02, -1.81860502e-01, -5.44118011e-03,\n",
       "         9.65925826e-01, -2.58819045e-01,  1.48655190e-02,\n",
       "         9.99889502e-01],\n",
       "       [-1.41279802e+00,  3.04205129e-01,  1.80595988e+00,\n",
       "        -8.47884537e-02, -1.81860502e-01, -5.44118011e-03,\n",
       "         8.66025404e-01, -5.00000000e-01,  1.55822183e-02,\n",
       "         9.99878590e-01],\n",
       "       [-5.70544534e-01, -5.25276166e-01,  7.12025547e-02,\n",
       "        -8.47884537e-02, -1.81860502e-01,  1.45860552e-02,\n",
       "         7.07106781e-01, -7.07106781e-01,  1.62989095e-02,\n",
       "         9.99867164e-01],\n",
       "       [-5.41501310e-01, -1.10535518e-01,  3.58508942e-01,\n",
       "        -8.47884537e-02, -1.81860502e-01, -5.44118011e-03,\n",
       "         5.00000000e-01, -8.66025404e-01,  1.70155925e-02,\n",
       "         9.99855224e-01],\n",
       "       [ 3.93631644e-02, -5.25276166e-01, -5.15011665e-01,\n",
       "        -8.47884537e-02, -1.81860502e-01, -5.44118011e-03,\n",
       "         2.58819045e-01, -9.65925826e-01,  1.77322666e-02,\n",
       "         9.99842771e-01],\n",
       "       [ 3.93631644e-02, -5.25276166e-01, -5.15011665e-01,\n",
       "        -8.47884537e-02, -1.81860502e-01, -5.44118011e-03,\n",
       "        -1.38616426e-12, -1.00000000e+00,  1.84489317e-02,\n",
       "         9.99829804e-01],\n",
       "       [ 3.29795402e-01, -5.25276166e-01, -7.67513715e-01,\n",
       "        -8.47884537e-02, -1.81860502e-01, -5.44118011e-03,\n",
       "        -2.58819045e-01, -9.65925826e-01,  1.91655873e-02,\n",
       "         9.99816323e-01],\n",
       "       [ 3.29795402e-01, -5.25276166e-01, -7.67513715e-01,\n",
       "        -8.47884537e-02, -1.81860502e-01, -5.44118011e-03,\n",
       "        -5.00000000e-01, -8.66025404e-01,  1.98822330e-02,\n",
       "         9.99802329e-01],\n",
       "       [ 3.29795402e-01, -5.25276166e-01, -7.67513715e-01,\n",
       "        -8.47884537e-02, -1.81860502e-01, -5.44118011e-03,\n",
       "        -7.07106781e-01, -7.07106781e-01,  2.05988685e-02,\n",
       "         9.99787821e-01],\n",
       "       [ 3.93631644e-02, -5.25276166e-01, -5.15011665e-01,\n",
       "        -8.47884537e-02, -1.81860502e-01, -8.06530592e-01,\n",
       "        -8.66025404e-01, -5.00000000e-01,  2.13154935e-02,\n",
       "         9.99772799e-01],\n",
       "       [-2.51069073e-01, -5.25276166e-01, -2.46131103e-01,\n",
       "        -8.47884537e-02, -1.81860502e-01, -8.06530592e-01,\n",
       "        -9.65925826e-01, -2.58819045e-01,  2.20321075e-02,\n",
       "         9.99757264e-01],\n",
       "       [-5.41501310e-01, -5.25276166e-01,  4.18577218e-02,\n",
       "        -8.47884537e-02, -1.81860502e-01, -8.06530592e-01,\n",
       "        -1.00000000e+00, -1.17717989e-12,  2.27487101e-02,\n",
       "         9.99741215e-01],\n",
       "       [-1.12236579e+00, -5.25276166e-01,  6.77207475e-01,\n",
       "        -8.47884537e-02, -1.81860502e-01, -8.06530592e-01,\n",
       "        -9.65925826e-01,  2.58819045e-01,  2.34653011e-02,\n",
       "         9.99724652e-01],\n",
       "       [-1.12236579e+00, -5.25276166e-01,  6.77207475e-01,\n",
       "        -8.47884537e-02, -1.81860502e-01, -8.06530592e-01,\n",
       "        -8.66025404e-01,  5.00000000e-01,  2.41818800e-02,\n",
       "         9.99707576e-01],\n",
       "       [-1.12236579e+00, -5.25276166e-01,  6.77207475e-01,\n",
       "        -8.47884537e-02, -1.81860502e-01, -8.06530592e-01,\n",
       "        -7.07106781e-01,  7.07106781e-01,  2.48984465e-02,\n",
       "         9.99689986e-01],\n",
       "       [-1.41279802e+00, -5.25276166e-01,  1.02798059e+00,\n",
       "        -8.47884537e-02, -1.81860502e-01, -8.06530592e-01,\n",
       "        -5.00000000e-01,  8.66025404e-01,  2.56150003e-02,\n",
       "         9.99671882e-01],\n",
       "       [-1.41279802e+00, -5.25276166e-01,  1.02798059e+00,\n",
       "        -8.47884537e-02, -1.81860502e-01, -8.06530592e-01,\n",
       "        -2.58819045e-01,  9.65925826e-01,  2.63315408e-02,\n",
       "         9.99653265e-01],\n",
       "       [-1.70323026e+00, -5.25276166e-01,  1.40400392e+00,\n",
       "        -8.47884537e-02, -1.81860502e-01, -8.06530592e-01,\n",
       "        -3.74052404e-12,  1.00000000e+00,  2.70480678e-02,\n",
       "         9.99634134e-01],\n",
       "       [-1.84844638e+00, -1.02296494e+00,  1.13239360e+00,\n",
       "        -8.47884537e-02, -1.81860502e-01,  6.57516107e-03,\n",
       "         2.58819045e-01,  9.65925826e-01,  2.77645809e-02,\n",
       "         9.99614490e-01],\n",
       "       [-1.70323026e+00, -5.25276166e-01,  1.40400392e+00,\n",
       "        -8.47884537e-02, -1.81860502e-01, -5.44118011e-03,\n",
       "         5.00000000e-01,  8.66025404e-01,  2.84810798e-02,\n",
       "         9.99594332e-01],\n",
       "       [-1.70323026e+00, -5.25276166e-01,  1.40400392e+00,\n",
       "        -8.47884537e-02, -1.81860502e-01, -5.44118011e-03,\n",
       "         7.07106781e-01,  7.07106781e-01,  2.91975640e-02,\n",
       "         9.99573660e-01],\n",
       "       [-1.70323026e+00, -5.25276166e-01,  1.40400392e+00,\n",
       "        -8.47884537e-02, -1.81860502e-01, -8.06530592e-01,\n",
       "         8.66025404e-01,  5.00000000e-01,  2.99140332e-02,\n",
       "         9.99552475e-01],\n",
       "       [-1.70323026e+00, -5.25276166e-01,  1.40400392e+00,\n",
       "        -8.47884537e-02, -1.81860502e-01, -8.06530592e-01,\n",
       "         9.65925826e-01,  2.58819045e-01,  3.06304871e-02,\n",
       "         9.99530777e-01],\n",
       "       [-1.99366250e+00, -5.25276166e-01,  1.80595988e+00,\n",
       "        -8.47884537e-02, -1.81860502e-01, -8.06530592e-01,\n",
       "         1.00000000e+00,  6.30386820e-12,  3.13469252e-02,\n",
       "         9.99508564e-01],\n",
       "       [-1.99366250e+00, -5.25276166e-01,  1.80595988e+00,\n",
       "        -8.47884537e-02, -1.81860502e-01, -8.06530592e-01,\n",
       "         9.65925826e-01, -2.58819045e-01,  3.20633472e-02,\n",
       "         9.99485839e-01],\n",
       "       [-1.99366250e+00, -5.25276166e-01,  1.80595988e+00,\n",
       "        -8.47884537e-02, -1.81860502e-01, -8.06530592e-01,\n",
       "         8.66025404e-01, -5.00000000e-01,  3.27797528e-02,\n",
       "         9.99462600e-01],\n",
       "       [-1.00619289e+00, -1.10591307e+00,  8.55337521e-02,\n",
       "        -8.47884537e-02, -1.81860502e-01, -1.25604592e-01,\n",
       "         7.07106781e-01, -7.07106781e-01,  3.34961415e-02,\n",
       "         9.99438847e-01],\n",
       "       [-1.12236579e+00, -1.10535518e-01,  1.03344010e+00,\n",
       "        -8.47884537e-02, -1.81860502e-01, -8.06530592e-01,\n",
       "         5.00000000e-01, -8.66025404e-01,  3.42125130e-02,\n",
       "         9.99414581e-01],\n",
       "       [-5.41501310e-01, -1.10591307e+00, -3.74429442e-01,\n",
       "        -8.47884537e-02, -1.81860502e-01,  6.47446690e-01,\n",
       "         2.58819045e-01, -9.65925826e-01,  3.49288669e-02,\n",
       "         9.99389801e-01],\n",
       "       [-2.51069073e-01, -5.25276166e-01, -2.46131103e-01,\n",
       "        -8.47884537e-02, -1.81860502e-01, -8.06530592e-01,\n",
       "         8.86721235e-12, -1.00000000e+00,  3.56452028e-02,\n",
       "         9.99364508e-01],\n",
       "       [ 3.93631644e-02, -5.25276166e-01, -5.15011665e-01,\n",
       "        -8.47884537e-02, -1.81860502e-01, -8.06530592e-01,\n",
       "        -2.58819045e-01, -9.65925826e-01,  3.63615205e-02,\n",
       "         9.99338701e-01],\n",
       "       [-3.38198744e-01, -1.06443901e+00, -5.33437490e-01,\n",
       "        -8.47884537e-02, -1.81860502e-01, -7.54459780e-01,\n",
       "        -5.00000000e-01, -8.66025404e-01,  3.70778194e-02,\n",
       "         9.99312381e-01],\n",
       "       [ 3.29795402e-01, -1.35475746e+00, -1.25886906e+00,\n",
       "        -8.47884537e-02, -1.81860502e-01, -8.06530592e-01,\n",
       "        -7.07106781e-01, -7.07106781e-01,  3.77940994e-02,\n",
       "         9.99285548e-01],\n",
       "       [ 3.93631644e-02, -9.40016814e-01, -7.82527351e-01,\n",
       "        -8.47884537e-02, -1.81860502e-01, -8.06530592e-01,\n",
       "        -8.66025404e-01, -5.00000000e-01,  3.85103599e-02,\n",
       "         9.99258201e-01],\n",
       "       [-2.51069073e-01, -5.25276166e-01, -2.46131103e-01,\n",
       "        -8.47884537e-02, -1.81860502e-01, -8.06530592e-01,\n",
       "        -9.65925826e-01, -2.58819045e-01,  3.92266006e-02,\n",
       "         9.99230341e-01],\n",
       "       [-1.23853868e+00, -8.15594620e-01,  5.70747152e-01,\n",
       "        -8.47884537e-02, -1.81860502e-01, -1.45631827e-01,\n",
       "        -1.00000000e+00, -1.14305565e-11,  3.99428211e-02,\n",
       "         9.99201967e-01],\n",
       "       [-1.12236579e+00, -5.25276166e-01,  6.77207475e-01,\n",
       "        -8.47884537e-02, -1.81860502e-01, -5.44118011e-03,\n",
       "        -9.65925826e-01,  2.58819045e-01,  4.06590212e-02,\n",
       "         9.99173080e-01],\n",
       "       [-1.12236579e+00, -5.25276166e-01,  6.77207475e-01,\n",
       "        -8.47884537e-02, -1.81860502e-01, -5.44118011e-03,\n",
       "        -8.66025404e-01,  5.00000000e-01,  4.13752003e-02,\n",
       "         9.99143680e-01],\n",
       "       [-1.12236579e+00, -5.25276166e-01,  6.77207475e-01,\n",
       "        -8.47884537e-02, -1.81860502e-01, -8.06530592e-01,\n",
       "        -7.07106781e-01,  7.07106781e-01,  4.20913582e-02,\n",
       "         9.99113766e-01],\n",
       "       [-1.12236579e+00, -5.25276166e-01,  6.77207475e-01,\n",
       "        -8.47884537e-02, -1.81860502e-01, -5.44118011e-03,\n",
       "        -5.00000000e-01,  8.66025404e-01,  4.28074945e-02,\n",
       "         9.99083339e-01],\n",
       "       [-1.41279802e+00, -1.10535518e-01,  1.40673367e+00,\n",
       "        -8.47884537e-02, -1.81860502e-01, -5.44118011e-03,\n",
       "        -2.58819045e-01,  9.65925826e-01,  4.35236088e-02,\n",
       "         9.99052399e-01],\n",
       "       [-1.41279802e+00, -1.10535518e-01,  1.40673367e+00,\n",
       "        -8.47884537e-02, -1.81860502e-01, -5.44118011e-03,\n",
       "         5.58014578e-13,  1.00000000e+00,  4.42397007e-02,\n",
       "         9.99020945e-01],\n",
       "       [-1.41279802e+00, -1.10535518e-01,  1.40673367e+00,\n",
       "        -8.47884537e-02, -1.81860502e-01, -8.06530592e-01,\n",
       "         2.58819045e-01,  9.65925826e-01,  4.49557699e-02,\n",
       "         9.98988978e-01]])"
      ]
     },
     "execution_count": 31,
     "metadata": {},
     "output_type": "execute_result"
    }
   ],
   "source": [
    "X_train[0]"
   ]
  },
  {
   "cell_type": "code",
   "execution_count": 32,
   "metadata": {},
   "outputs": [
    {
     "name": "stdout",
     "output_type": "stream",
     "text": [
      "False False\n",
      "False False\n"
     ]
    }
   ],
   "source": [
    "print(np.isnan(X_train).any(), np.isnan(y_train).any())\n",
    "print(np.isinf(X_train).any(), np.isinf(y_train).any())\n"
   ]
  },
  {
   "cell_type": "code",
   "execution_count": 33,
   "metadata": {},
   "outputs": [],
   "source": [
    "# from sklearn.impute import SimpleImputer\n",
    "\n",
    "# imputer = SimpleImputer(strategy='mean')\n",
    "\n",
    "# X_train_no_nan = imputer.fit_transform(X_train)\n"
   ]
  },
  {
   "cell_type": "code",
   "execution_count": 34,
   "metadata": {},
   "outputs": [
    {
     "name": "stdout",
     "output_type": "stream",
     "text": [
      "WARNING:tensorflow:From d:\\Weather Nowcasting D drive\\.venv\\lib\\site-packages\\keras\\src\\losses.py:2976: The name tf.losses.sparse_softmax_cross_entropy is deprecated. Please use tf.compat.v1.losses.sparse_softmax_cross_entropy instead.\n",
      "\n",
      "WARNING:tensorflow:From d:\\Weather Nowcasting D drive\\.venv\\lib\\site-packages\\keras\\src\\backend.py:873: The name tf.get_default_graph is deprecated. Please use tf.compat.v1.get_default_graph instead.\n",
      "\n",
      "Model: \"sequential\"\n",
      "_________________________________________________________________\n",
      " Layer (type)                Output Shape              Param #   \n",
      "=================================================================\n",
      " lstm (LSTM)                 (None, 50, 128)           71168     \n",
      "                                                                 \n",
      " lstm_1 (LSTM)               (None, 64)                49408     \n",
      "                                                                 \n",
      " dense (Dense)               (None, 8)                 520       \n",
      "                                                                 \n",
      " dense_1 (Dense)             (None, 1)                 9         \n",
      "                                                                 \n",
      "=================================================================\n",
      "Total params: 121105 (473.07 KB)\n",
      "Trainable params: 121105 (473.07 KB)\n",
      "Non-trainable params: 0 (0.00 Byte)\n",
      "_________________________________________________________________\n"
     ]
    }
   ],
   "source": [
    "from tensorflow.keras.models import Sequential\n",
    "from tensorflow.keras.layers import *\n",
    "from tensorflow.keras.callbacks import ModelCheckpoint\n",
    "from tensorflow.keras.losses import MeanSquaredError\n",
    "from tensorflow.keras.metrics import RootMeanSquaredError\n",
    "from tensorflow.keras.optimizers import Adam\n",
    "\n",
    "model4 = Sequential()\n",
    "model4.add(InputLayer((WINDOW_SIZE, 10)))\n",
    "model4.add(LSTM(128,return_sequences=True))\n",
    "model4.add(LSTM(64))\n",
    "model4.add(Dense(8, 'relu'))\n",
    "model4.add(Dense(1, 'linear'))\n",
    "\n",
    "model4.summary()"
   ]
  },
  {
   "cell_type": "code",
   "execution_count": 39,
   "metadata": {},
   "outputs": [],
   "source": [
    "cp4 = ModelCheckpoint('model4/', save_best_only=True)\n",
    "model4.compile(loss=MeanSquaredError(), optimizer=Adam(learning_rate=0.0001), metrics=[RootMeanSquaredError()])"
   ]
  },
  {
   "cell_type": "code",
   "execution_count": 40,
   "metadata": {},
   "outputs": [
    {
     "name": "stdout",
     "output_type": "stream",
     "text": [
      "Epoch 1/60\n"
     ]
    },
    {
     "name": "stdout",
     "output_type": "stream",
     "text": [
      "2191/2192 [============================>.] - ETA: 0s - loss: 0.8885 - root_mean_squared_error: 0.9426INFO:tensorflow:Assets written to: model4\\assets\n"
     ]
    },
    {
     "name": "stderr",
     "output_type": "stream",
     "text": [
      "INFO:tensorflow:Assets written to: model4\\assets\n"
     ]
    },
    {
     "name": "stdout",
     "output_type": "stream",
     "text": [
      "2192/2192 [==============================] - 85s 37ms/step - loss: 0.8884 - root_mean_squared_error: 0.9426 - val_loss: 1.5855 - val_root_mean_squared_error: 1.2592\n",
      "Epoch 2/60\n",
      "2190/2192 [============================>.] - ETA: 0s - loss: 0.8781 - root_mean_squared_error: 0.9371INFO:tensorflow:Assets written to: model4\\assets\n"
     ]
    },
    {
     "name": "stderr",
     "output_type": "stream",
     "text": [
      "INFO:tensorflow:Assets written to: model4\\assets\n"
     ]
    },
    {
     "name": "stdout",
     "output_type": "stream",
     "text": [
      "2192/2192 [==============================] - 79s 36ms/step - loss: 0.8777 - root_mean_squared_error: 0.9369 - val_loss: 1.5627 - val_root_mean_squared_error: 1.2501\n",
      "Epoch 3/60\n",
      "2191/2192 [============================>.] - ETA: 0s - loss: 0.8658 - root_mean_squared_error: 0.9305INFO:tensorflow:Assets written to: model4\\assets\n"
     ]
    },
    {
     "name": "stderr",
     "output_type": "stream",
     "text": [
      "INFO:tensorflow:Assets written to: model4\\assets\n"
     ]
    },
    {
     "name": "stdout",
     "output_type": "stream",
     "text": [
      "2192/2192 [==============================] - 76s 34ms/step - loss: 0.8657 - root_mean_squared_error: 0.9304 - val_loss: 1.5297 - val_root_mean_squared_error: 1.2368\n",
      "Epoch 4/60\n",
      "2190/2192 [============================>.] - ETA: 0s - loss: 0.8498 - root_mean_squared_error: 0.9218INFO:tensorflow:Assets written to: model4\\assets\n"
     ]
    },
    {
     "name": "stderr",
     "output_type": "stream",
     "text": [
      "INFO:tensorflow:Assets written to: model4\\assets\n"
     ]
    },
    {
     "name": "stdout",
     "output_type": "stream",
     "text": [
      "2192/2192 [==============================] - 76s 35ms/step - loss: 0.8498 - root_mean_squared_error: 0.9218 - val_loss: 1.4794 - val_root_mean_squared_error: 1.2163\n",
      "Epoch 5/60\n",
      "2192/2192 [==============================] - ETA: 0s - loss: 0.8279 - root_mean_squared_error: 0.9099INFO:tensorflow:Assets written to: model4\\assets\n"
     ]
    },
    {
     "name": "stderr",
     "output_type": "stream",
     "text": [
      "INFO:tensorflow:Assets written to: model4\\assets\n"
     ]
    },
    {
     "name": "stdout",
     "output_type": "stream",
     "text": [
      "2192/2192 [==============================] - 80s 36ms/step - loss: 0.8279 - root_mean_squared_error: 0.9099 - val_loss: 1.4059 - val_root_mean_squared_error: 1.1857\n",
      "Epoch 6/60\n",
      "2192/2192 [==============================] - ETA: 0s - loss: 0.7957 - root_mean_squared_error: 0.8920INFO:tensorflow:Assets written to: model4\\assets\n"
     ]
    },
    {
     "name": "stderr",
     "output_type": "stream",
     "text": [
      "INFO:tensorflow:Assets written to: model4\\assets\n"
     ]
    },
    {
     "name": "stdout",
     "output_type": "stream",
     "text": [
      "2192/2192 [==============================] - 82s 37ms/step - loss: 0.7957 - root_mean_squared_error: 0.8920 - val_loss: 1.3690 - val_root_mean_squared_error: 1.1701\n",
      "Epoch 7/60\n",
      "2192/2192 [==============================] - ETA: 0s - loss: 0.7648 - root_mean_squared_error: 0.8745INFO:tensorflow:Assets written to: model4\\assets\n"
     ]
    },
    {
     "name": "stderr",
     "output_type": "stream",
     "text": [
      "INFO:tensorflow:Assets written to: model4\\assets\n"
     ]
    },
    {
     "name": "stdout",
     "output_type": "stream",
     "text": [
      "2192/2192 [==============================] - 82s 38ms/step - loss: 0.7648 - root_mean_squared_error: 0.8745 - val_loss: 1.2824 - val_root_mean_squared_error: 1.1324\n",
      "Epoch 8/60\n",
      "2192/2192 [==============================] - ETA: 0s - loss: 0.7344 - root_mean_squared_error: 0.8569INFO:tensorflow:Assets written to: model4\\assets\n"
     ]
    },
    {
     "name": "stderr",
     "output_type": "stream",
     "text": [
      "INFO:tensorflow:Assets written to: model4\\assets\n"
     ]
    },
    {
     "name": "stdout",
     "output_type": "stream",
     "text": [
      "2192/2192 [==============================] - 81s 37ms/step - loss: 0.7344 - root_mean_squared_error: 0.8569 - val_loss: 1.2549 - val_root_mean_squared_error: 1.1202\n",
      "Epoch 9/60\n",
      "2191/2192 [============================>.] - ETA: 0s - loss: 0.7185 - root_mean_squared_error: 0.8476INFO:tensorflow:Assets written to: model4\\assets\n"
     ]
    },
    {
     "name": "stderr",
     "output_type": "stream",
     "text": [
      "INFO:tensorflow:Assets written to: model4\\assets\n"
     ]
    },
    {
     "name": "stdout",
     "output_type": "stream",
     "text": [
      "2192/2192 [==============================] - 81s 37ms/step - loss: 0.7184 - root_mean_squared_error: 0.8476 - val_loss: 1.2430 - val_root_mean_squared_error: 1.1149\n",
      "Epoch 10/60\n",
      "2192/2192 [==============================] - 80s 36ms/step - loss: 0.7019 - root_mean_squared_error: 0.8378 - val_loss: 1.2547 - val_root_mean_squared_error: 1.1202\n",
      "Epoch 11/60\n",
      "2191/2192 [============================>.] - ETA: 0s - loss: 0.6858 - root_mean_squared_error: 0.8281INFO:tensorflow:Assets written to: model4\\assets\n"
     ]
    },
    {
     "name": "stderr",
     "output_type": "stream",
     "text": [
      "INFO:tensorflow:Assets written to: model4\\assets\n"
     ]
    },
    {
     "name": "stdout",
     "output_type": "stream",
     "text": [
      "2192/2192 [==============================] - 82s 37ms/step - loss: 0.6857 - root_mean_squared_error: 0.8281 - val_loss: 1.2414 - val_root_mean_squared_error: 1.1142\n",
      "Epoch 12/60\n",
      "2191/2192 [============================>.] - ETA: 0s - loss: 0.6682 - root_mean_squared_error: 0.8175INFO:tensorflow:Assets written to: model4\\assets\n"
     ]
    },
    {
     "name": "stderr",
     "output_type": "stream",
     "text": [
      "INFO:tensorflow:Assets written to: model4\\assets\n"
     ]
    },
    {
     "name": "stdout",
     "output_type": "stream",
     "text": [
      "2192/2192 [==============================] - 79s 36ms/step - loss: 0.6682 - root_mean_squared_error: 0.8174 - val_loss: 1.2307 - val_root_mean_squared_error: 1.1094\n",
      "Epoch 13/60\n",
      "2192/2192 [==============================] - 79s 36ms/step - loss: 0.6581 - root_mean_squared_error: 0.8112 - val_loss: 1.2476 - val_root_mean_squared_error: 1.1170\n",
      "Epoch 14/60\n",
      "2192/2192 [==============================] - 77s 35ms/step - loss: 0.6399 - root_mean_squared_error: 0.7999 - val_loss: 1.2361 - val_root_mean_squared_error: 1.1118\n",
      "Epoch 15/60\n",
      "2192/2192 [==============================] - 77s 35ms/step - loss: 0.6295 - root_mean_squared_error: 0.7934 - val_loss: 1.2880 - val_root_mean_squared_error: 1.1349\n",
      "Epoch 16/60\n",
      "2192/2192 [==============================] - 77s 35ms/step - loss: 0.6130 - root_mean_squared_error: 0.7829 - val_loss: 1.3238 - val_root_mean_squared_error: 1.1506\n",
      "Epoch 17/60\n",
      "2192/2192 [==============================] - 77s 35ms/step - loss: 0.6096 - root_mean_squared_error: 0.7807 - val_loss: 1.2986 - val_root_mean_squared_error: 1.1396\n",
      "Epoch 18/60\n",
      "2192/2192 [==============================] - 77s 35ms/step - loss: 0.5964 - root_mean_squared_error: 0.7723 - val_loss: 1.3537 - val_root_mean_squared_error: 1.1635\n",
      "Epoch 19/60\n",
      "2192/2192 [==============================] - 78s 35ms/step - loss: 0.5734 - root_mean_squared_error: 0.7572 - val_loss: 1.3591 - val_root_mean_squared_error: 1.1658\n",
      "Epoch 20/60\n",
      "2192/2192 [==============================] - 77s 35ms/step - loss: 0.5528 - root_mean_squared_error: 0.7435 - val_loss: 1.3233 - val_root_mean_squared_error: 1.1504\n",
      "Epoch 21/60\n",
      "2192/2192 [==============================] - 77s 35ms/step - loss: 0.5321 - root_mean_squared_error: 0.7294 - val_loss: 1.4444 - val_root_mean_squared_error: 1.2019\n",
      "Epoch 22/60\n",
      "2192/2192 [==============================] - 77s 35ms/step - loss: 0.5046 - root_mean_squared_error: 0.7104 - val_loss: 1.4759 - val_root_mean_squared_error: 1.2149\n",
      "Epoch 23/60\n",
      "2192/2192 [==============================] - 78s 35ms/step - loss: 0.4993 - root_mean_squared_error: 0.7066 - val_loss: 1.4140 - val_root_mean_squared_error: 1.1891\n",
      "Epoch 24/60\n",
      "2192/2192 [==============================] - 77s 35ms/step - loss: 0.4820 - root_mean_squared_error: 0.6942 - val_loss: 1.4199 - val_root_mean_squared_error: 1.1916\n",
      "Epoch 25/60\n",
      "2192/2192 [==============================] - 77s 35ms/step - loss: 0.4585 - root_mean_squared_error: 0.6771 - val_loss: 1.4089 - val_root_mean_squared_error: 1.1870\n",
      "Epoch 26/60\n",
      "2192/2192 [==============================] - 77s 35ms/step - loss: 0.4401 - root_mean_squared_error: 0.6634 - val_loss: 1.4266 - val_root_mean_squared_error: 1.1944\n",
      "Epoch 27/60\n",
      "2192/2192 [==============================] - 77s 35ms/step - loss: 0.4209 - root_mean_squared_error: 0.6488 - val_loss: 1.5153 - val_root_mean_squared_error: 1.2310\n",
      "Epoch 28/60\n",
      "2192/2192 [==============================] - 79s 36ms/step - loss: 0.4116 - root_mean_squared_error: 0.6416 - val_loss: 1.5044 - val_root_mean_squared_error: 1.2266\n",
      "Epoch 29/60\n",
      "2192/2192 [==============================] - 78s 35ms/step - loss: 0.3895 - root_mean_squared_error: 0.6241 - val_loss: 1.5545 - val_root_mean_squared_error: 1.2468\n",
      "Epoch 30/60\n",
      "2192/2192 [==============================] - 77s 35ms/step - loss: 0.3663 - root_mean_squared_error: 0.6053 - val_loss: 1.5302 - val_root_mean_squared_error: 1.2370\n",
      "Epoch 31/60\n",
      "2192/2192 [==============================] - 77s 35ms/step - loss: 0.3522 - root_mean_squared_error: 0.5935 - val_loss: 1.6663 - val_root_mean_squared_error: 1.2909\n",
      "Epoch 32/60\n",
      "2192/2192 [==============================] - 77s 35ms/step - loss: 0.3429 - root_mean_squared_error: 0.5856 - val_loss: 1.5448 - val_root_mean_squared_error: 1.2429\n",
      "Epoch 33/60\n",
      "2192/2192 [==============================] - 77s 35ms/step - loss: 0.3273 - root_mean_squared_error: 0.5721 - val_loss: 1.6958 - val_root_mean_squared_error: 1.3022\n",
      "Epoch 34/60\n",
      "2192/2192 [==============================] - 77s 35ms/step - loss: 0.3068 - root_mean_squared_error: 0.5539 - val_loss: 1.6023 - val_root_mean_squared_error: 1.2658\n",
      "Epoch 35/60\n",
      "2192/2192 [==============================] - 78s 35ms/step - loss: 0.3089 - root_mean_squared_error: 0.5558 - val_loss: 1.5266 - val_root_mean_squared_error: 1.2356\n",
      "Epoch 36/60\n",
      "2192/2192 [==============================] - 77s 35ms/step - loss: 0.2811 - root_mean_squared_error: 0.5302 - val_loss: 1.5093 - val_root_mean_squared_error: 1.2286\n",
      "Epoch 37/60\n",
      "2192/2192 [==============================] - 77s 35ms/step - loss: 0.2705 - root_mean_squared_error: 0.5201 - val_loss: 1.6193 - val_root_mean_squared_error: 1.2725\n",
      "Epoch 38/60\n",
      "2192/2192 [==============================] - 77s 35ms/step - loss: 0.2849 - root_mean_squared_error: 0.5338 - val_loss: 1.6134 - val_root_mean_squared_error: 1.2702\n",
      "Epoch 39/60\n",
      "2192/2192 [==============================] - 78s 35ms/step - loss: 0.2770 - root_mean_squared_error: 0.5263 - val_loss: 1.5470 - val_root_mean_squared_error: 1.2438\n",
      "Epoch 40/60\n",
      "2192/2192 [==============================] - 78s 35ms/step - loss: 0.2468 - root_mean_squared_error: 0.4967 - val_loss: 1.4751 - val_root_mean_squared_error: 1.2145\n",
      "Epoch 41/60\n",
      "2192/2192 [==============================] - 78s 35ms/step - loss: 0.2553 - root_mean_squared_error: 0.5053 - val_loss: 1.6002 - val_root_mean_squared_error: 1.2650\n",
      "Epoch 42/60\n",
      "2192/2192 [==============================] - 77s 35ms/step - loss: 0.2356 - root_mean_squared_error: 0.4854 - val_loss: 1.6797 - val_root_mean_squared_error: 1.2960\n",
      "Epoch 43/60\n",
      "2192/2192 [==============================] - 77s 35ms/step - loss: 0.2418 - root_mean_squared_error: 0.4918 - val_loss: 1.6057 - val_root_mean_squared_error: 1.2672\n",
      "Epoch 44/60\n",
      "2192/2192 [==============================] - 78s 35ms/step - loss: 0.2315 - root_mean_squared_error: 0.4811 - val_loss: 1.6657 - val_root_mean_squared_error: 1.2906\n",
      "Epoch 45/60\n",
      "2192/2192 [==============================] - 77s 35ms/step - loss: 0.2312 - root_mean_squared_error: 0.4808 - val_loss: 1.5588 - val_root_mean_squared_error: 1.2485\n",
      "Epoch 46/60\n",
      "2192/2192 [==============================] - 77s 35ms/step - loss: 0.2468 - root_mean_squared_error: 0.4968 - val_loss: 1.7705 - val_root_mean_squared_error: 1.3306\n",
      "Epoch 47/60\n",
      "2192/2192 [==============================] - 78s 35ms/step - loss: 0.1976 - root_mean_squared_error: 0.4446 - val_loss: 1.7340 - val_root_mean_squared_error: 1.3168\n",
      "Epoch 48/60\n",
      "2192/2192 [==============================] - 78s 35ms/step - loss: 0.2117 - root_mean_squared_error: 0.4601 - val_loss: 1.6157 - val_root_mean_squared_error: 1.2711\n",
      "Epoch 49/60\n",
      "2192/2192 [==============================] - 77s 35ms/step - loss: 0.1984 - root_mean_squared_error: 0.4454 - val_loss: 1.6444 - val_root_mean_squared_error: 1.2824\n",
      "Epoch 50/60\n",
      "2192/2192 [==============================] - 77s 35ms/step - loss: 0.2101 - root_mean_squared_error: 0.4584 - val_loss: 1.6709 - val_root_mean_squared_error: 1.2926\n",
      "Epoch 51/60\n",
      "2192/2192 [==============================] - 78s 35ms/step - loss: 0.1893 - root_mean_squared_error: 0.4351 - val_loss: 1.7015 - val_root_mean_squared_error: 1.3044\n",
      "Epoch 52/60\n",
      "2192/2192 [==============================] - 78s 35ms/step - loss: 0.1947 - root_mean_squared_error: 0.4413 - val_loss: 1.7965 - val_root_mean_squared_error: 1.3403\n",
      "Epoch 53/60\n",
      "2192/2192 [==============================] - 77s 35ms/step - loss: 0.1768 - root_mean_squared_error: 0.4205 - val_loss: 1.5741 - val_root_mean_squared_error: 1.2546\n",
      "Epoch 54/60\n",
      "2192/2192 [==============================] - 77s 35ms/step - loss: 0.2026 - root_mean_squared_error: 0.4501 - val_loss: 1.5166 - val_root_mean_squared_error: 1.2315\n",
      "Epoch 55/60\n",
      "2192/2192 [==============================] - 77s 35ms/step - loss: 0.1677 - root_mean_squared_error: 0.4095 - val_loss: 1.6228 - val_root_mean_squared_error: 1.2739\n",
      "Epoch 56/60\n",
      "2192/2192 [==============================] - 77s 35ms/step - loss: 0.1683 - root_mean_squared_error: 0.4103 - val_loss: 1.7271 - val_root_mean_squared_error: 1.3142\n",
      "Epoch 57/60\n",
      "2192/2192 [==============================] - 78s 35ms/step - loss: 0.1728 - root_mean_squared_error: 0.4157 - val_loss: 1.5796 - val_root_mean_squared_error: 1.2568\n",
      "Epoch 58/60\n",
      "2192/2192 [==============================] - 77s 35ms/step - loss: 0.1583 - root_mean_squared_error: 0.3979 - val_loss: 1.6369 - val_root_mean_squared_error: 1.2794\n",
      "Epoch 59/60\n",
      "2192/2192 [==============================] - 77s 35ms/step - loss: 0.1694 - root_mean_squared_error: 0.4116 - val_loss: 1.7939 - val_root_mean_squared_error: 1.3394\n",
      "Epoch 60/60\n",
      "2192/2192 [==============================] - 77s 35ms/step - loss: 0.1868 - root_mean_squared_error: 0.4322 - val_loss: 1.5710 - val_root_mean_squared_error: 1.2534\n"
     ]
    },
    {
     "data": {
      "text/plain": [
       "<keras.src.callbacks.History at 0x117a8a99b20>"
      ]
     },
     "execution_count": 40,
     "metadata": {},
     "output_type": "execute_result"
    }
   ],
   "source": [
    "model4.fit(X_train, y_train, validation_data=(X_val, y_val), epochs=60, callbacks=[cp4])"
   ]
  },
  {
   "cell_type": "code",
   "execution_count": 41,
   "metadata": {},
   "outputs": [
    {
     "data": {
      "image/png": "[encoded data removed]",
      "text/plain": [
       "<Figure size 640x480 with 1 Axes>"
      ]
     },
     "metadata": {},
     "output_type": "display_data"
    }
   ],
   "source": [
    "history = model4.history\n",
    "import matplotlib.pyplot as plt\n",
    "\n",
    "# Plot training and validation loss\n",
    "plt.plot(history.history['loss'], label='Training Loss')\n",
    "plt.plot(history.history['val_loss'], label='Validation Loss')\n",
    "plt.title('Training and Validation Loss')\n",
    "plt.xlabel('Epoch')\n",
    "plt.ylabel('Loss')\n",
    "plt.legend()\n",
    "plt.show()"
   ]
  },
  {
   "cell_type": "code",
   "execution_count": 42,
   "metadata": {},
   "outputs": [
    {
     "name": "stderr",
     "output_type": "stream",
     "text": [
      "d:\\Weather Nowcasting D drive\\.venv\\lib\\site-packages\\keras\\src\\engine\\training.py:3103: UserWarning: You are saving your model as an HDF5 file via `model.save()`. This file format is considered legacy. We recommend using instead the native Keras format, e.g. `model.save('my_model.keras')`.\n",
      "  saving_api.save_model(\n"
     ]
    }
   ],
   "source": [
    "model4.save(\"my_model_multi_60.h5\")"
   ]
  },
  {
   "cell_type": "code",
   "execution_count": 43,
   "metadata": {},
   "outputs": [
    {
     "name": "stdout",
     "output_type": "stream",
     "text": [
      "2192/2192 [==============================] - 33s 15ms/step\n",
      "70118\n",
      "70118\n"
     ]
    }
   ],
   "source": [
    "train_predictions = model4.predict(X_train).flatten()\n",
    "print(len(train_predictions))\n",
    "print(len(y_train))"
   ]
  },
  {
   "cell_type": "code",
   "execution_count": 44,
   "metadata": {},
   "outputs": [
    {
     "data": {
      "text/html": [
       "<div>\n",
       "<style scoped>\n",
       "    .dataframe tbody tr th:only-of-type {\n",
       "        vertical-align: middle;\n",
       "    }\n",
       "\n",
       "    .dataframe tbody tr th {\n",
       "        vertical-align: top;\n",
       "    }\n",
       "\n",
       "    .dataframe thead th {\n",
       "        text-align: right;\n",
       "    }\n",
       "</style>\n",
       "<table border=\"1\" class=\"dataframe\">\n",
       "  <thead>\n",
       "    <tr style=\"text-align: right;\">\n",
       "      <th></th>\n",
       "      <th>Train predictions</th>\n",
       "      <th>actual</th>\n",
       "    </tr>\n",
       "  </thead>\n",
       "  <tbody>\n",
       "    <tr>\n",
       "      <th>0</th>\n",
       "      <td>-0.083489</td>\n",
       "      <td>-0.084788</td>\n",
       "    </tr>\n",
       "    <tr>\n",
       "      <th>1</th>\n",
       "      <td>-0.078075</td>\n",
       "      <td>-0.084788</td>\n",
       "    </tr>\n",
       "    <tr>\n",
       "      <th>2</th>\n",
       "      <td>-0.074364</td>\n",
       "      <td>-0.084788</td>\n",
       "    </tr>\n",
       "    <tr>\n",
       "      <th>3</th>\n",
       "      <td>-0.071180</td>\n",
       "      <td>-0.084788</td>\n",
       "    </tr>\n",
       "    <tr>\n",
       "      <th>4</th>\n",
       "      <td>-0.071964</td>\n",
       "      <td>-0.084788</td>\n",
       "    </tr>\n",
       "    <tr>\n",
       "      <th>...</th>\n",
       "      <td>...</td>\n",
       "      <td>...</td>\n",
       "    </tr>\n",
       "    <tr>\n",
       "      <th>70113</th>\n",
       "      <td>-0.059648</td>\n",
       "      <td>0.966555</td>\n",
       "    </tr>\n",
       "    <tr>\n",
       "      <th>70114</th>\n",
       "      <td>-0.116614</td>\n",
       "      <td>-0.084788</td>\n",
       "    </tr>\n",
       "    <tr>\n",
       "      <th>70115</th>\n",
       "      <td>-0.052672</td>\n",
       "      <td>-0.084788</td>\n",
       "    </tr>\n",
       "    <tr>\n",
       "      <th>70116</th>\n",
       "      <td>1.620808</td>\n",
       "      <td>1.265584</td>\n",
       "    </tr>\n",
       "    <tr>\n",
       "      <th>70117</th>\n",
       "      <td>-0.135744</td>\n",
       "      <td>-0.084788</td>\n",
       "    </tr>\n",
       "  </tbody>\n",
       "</table>\n",
       "<p>70118 rows × 2 columns</p>\n",
       "</div>"
      ],
      "text/plain": [
       "       Train predictions    actual\n",
       "0              -0.083489 -0.084788\n",
       "1              -0.078075 -0.084788\n",
       "2              -0.074364 -0.084788\n",
       "3              -0.071180 -0.084788\n",
       "4              -0.071964 -0.084788\n",
       "...                  ...       ...\n",
       "70113          -0.059648  0.966555\n",
       "70114          -0.116614 -0.084788\n",
       "70115          -0.052672 -0.084788\n",
       "70116           1.620808  1.265584\n",
       "70117          -0.135744 -0.084788\n",
       "\n",
       "[70118 rows x 2 columns]"
      ]
     },
     "execution_count": 44,
     "metadata": {},
     "output_type": "execute_result"
    }
   ],
   "source": [
    "train_results = pd.DataFrame(data={'Train predictions': train_predictions, 'actual':y_train})\n",
    "train_results"
   ]
  },
  {
   "cell_type": "code",
   "execution_count": 45,
   "metadata": {},
   "outputs": [
    {
     "data": {
      "text/plain": [
       "(59.72094168748118, -0.0847884537408429)"
      ]
     },
     "execution_count": 45,
     "metadata": {},
     "output_type": "execute_result"
    }
   ],
   "source": [
    "max_value = train_results['actual'].max()\n",
    "min_value = train_results['actual'].min()\n",
    "max_value,min_value"
   ]
  },
  {
   "cell_type": "code",
   "execution_count": null,
   "metadata": {},
   "outputs": [],
   "source": [
    "\n"
   ]
  },
  {
   "cell_type": "code",
   "execution_count": 46,
   "metadata": {},
   "outputs": [
    {
     "data": {
      "text/plain": [
       "[<matplotlib.lines.Line2D at 0x117b19601c0>]"
      ]
     },
     "execution_count": 46,
     "metadata": {},
     "output_type": "execute_result"
    },
    {
     "data": {
      "image/png": "[encoded data removed]",
      "text/plain": [
       "<Figure size 640x480 with 1 Axes>"
      ]
     },
     "metadata": {},
     "output_type": "display_data"
    }
   ],
   "source": [
    "plt.plot(train_results['Train predictions'])\n",
    "plt.plot(train_results['actual'])"
   ]
  },
  {
   "cell_type": "code",
   "execution_count": null,
   "metadata": {},
   "outputs": [],
   "source": []
  },
  {
   "cell_type": "code",
   "execution_count": 47,
   "metadata": {},
   "outputs": [
    {
     "data": {
      "text/plain": [
       "[<matplotlib.lines.Line2D at 0x117e329dbe0>]"
      ]
     },
     "execution_count": 47,
     "metadata": {},
     "output_type": "execute_result"
    },
    {
     "data": {
      "image/png": "[encoded data removed]",
      "text/plain": [
       "<Figure size 640x480 with 1 Axes>"
      ]
     },
     "metadata": {},
     "output_type": "display_data"
    }
   ],
   "source": [
    "plt.plot(train_results['Train predictions'])"
   ]
  },
  {
   "cell_type": "code",
   "execution_count": 48,
   "metadata": {},
   "outputs": [
    {
     "data": {
      "text/plain": [
       "[<matplotlib.lines.Line2D at 0x117c3839790>]"
      ]
     },
     "execution_count": 48,
     "metadata": {},
     "output_type": "execute_result"
    },
    {
     "data": {
      "image/png": "[encoded data removed]",
      "text/plain": [
       "<Figure size 640x480 with 1 Axes>"
      ]
     },
     "metadata": {},
     "output_type": "display_data"
    }
   ],
   "source": [
    "plt.plot(train_results['actual'])"
   ]
  },
  {
   "cell_type": "code",
   "execution_count": 49,
   "metadata": {},
   "outputs": [
    {
     "data": {
      "text/plain": [
       "[<matplotlib.lines.Line2D at 0x117c3486670>]"
      ]
     },
     "execution_count": 49,
     "metadata": {},
     "output_type": "execute_result"
    },
    {
     "data": {
      "image/png": "[encoded data removed]",
      "text/plain": [
       "<Figure size 640x480 with 1 Axes>"
      ]
     },
     "metadata": {},
     "output_type": "display_data"
    }
   ],
   "source": [
    "\n",
    "plt.plot(train_results['Train predictions'][100:200])\n",
    "plt.plot(train_results['actual'][100:200])"
   ]
  },
  {
   "cell_type": "code",
   "execution_count": 50,
   "metadata": {},
   "outputs": [
    {
     "name": "stdout",
     "output_type": "stream",
     "text": [
      "274/274 [==============================] - 4s 16ms/step\n"
     ]
    },
    {
     "data": {
      "text/html": [
       "<div>\n",
       "<style scoped>\n",
       "    .dataframe tbody tr th:only-of-type {\n",
       "        vertical-align: middle;\n",
       "    }\n",
       "\n",
       "    .dataframe tbody tr th {\n",
       "        vertical-align: top;\n",
       "    }\n",
       "\n",
       "    .dataframe thead th {\n",
       "        text-align: right;\n",
       "    }\n",
       "</style>\n",
       "<table border=\"1\" class=\"dataframe\">\n",
       "  <thead>\n",
       "    <tr style=\"text-align: right;\">\n",
       "      <th></th>\n",
       "      <th>Val predictions</th>\n",
       "      <th>actual</th>\n",
       "    </tr>\n",
       "  </thead>\n",
       "  <tbody>\n",
       "    <tr>\n",
       "      <th>0</th>\n",
       "      <td>-0.067048</td>\n",
       "      <td>-0.084788</td>\n",
       "    </tr>\n",
       "    <tr>\n",
       "      <th>1</th>\n",
       "      <td>-0.012202</td>\n",
       "      <td>-0.084788</td>\n",
       "    </tr>\n",
       "    <tr>\n",
       "      <th>2</th>\n",
       "      <td>-0.088335</td>\n",
       "      <td>-0.084788</td>\n",
       "    </tr>\n",
       "    <tr>\n",
       "      <th>3</th>\n",
       "      <td>-0.063466</td>\n",
       "      <td>-0.084788</td>\n",
       "    </tr>\n",
       "    <tr>\n",
       "      <th>4</th>\n",
       "      <td>-0.045002</td>\n",
       "      <td>-0.084788</td>\n",
       "    </tr>\n",
       "    <tr>\n",
       "      <th>...</th>\n",
       "      <td>...</td>\n",
       "      <td>...</td>\n",
       "    </tr>\n",
       "    <tr>\n",
       "      <th>8760</th>\n",
       "      <td>-0.042815</td>\n",
       "      <td>-0.084788</td>\n",
       "    </tr>\n",
       "    <tr>\n",
       "      <th>8761</th>\n",
       "      <td>-0.055881</td>\n",
       "      <td>-0.084788</td>\n",
       "    </tr>\n",
       "    <tr>\n",
       "      <th>8762</th>\n",
       "      <td>-0.070046</td>\n",
       "      <td>-0.084788</td>\n",
       "    </tr>\n",
       "    <tr>\n",
       "      <th>8763</th>\n",
       "      <td>-0.058488</td>\n",
       "      <td>-0.084788</td>\n",
       "    </tr>\n",
       "    <tr>\n",
       "      <th>8764</th>\n",
       "      <td>-0.038600</td>\n",
       "      <td>-0.084788</td>\n",
       "    </tr>\n",
       "  </tbody>\n",
       "</table>\n",
       "<p>8765 rows × 2 columns</p>\n",
       "</div>"
      ],
      "text/plain": [
       "      Val predictions    actual\n",
       "0           -0.067048 -0.084788\n",
       "1           -0.012202 -0.084788\n",
       "2           -0.088335 -0.084788\n",
       "3           -0.063466 -0.084788\n",
       "4           -0.045002 -0.084788\n",
       "...               ...       ...\n",
       "8760        -0.042815 -0.084788\n",
       "8761        -0.055881 -0.084788\n",
       "8762        -0.070046 -0.084788\n",
       "8763        -0.058488 -0.084788\n",
       "8764        -0.038600 -0.084788\n",
       "\n",
       "[8765 rows x 2 columns]"
      ]
     },
     "execution_count": 50,
     "metadata": {},
     "output_type": "execute_result"
    }
   ],
   "source": [
    "val_predictions = model4.predict(X_val).flatten()\n",
    "val_results = pd.DataFrame(data={'Val predictions': val_predictions, 'actual':y_val})\n",
    "val_results"
   ]
  },
  {
   "cell_type": "code",
   "execution_count": 51,
   "metadata": {},
   "outputs": [
    {
     "data": {
      "text/plain": [
       "[<matplotlib.lines.Line2D at 0x117a958cc40>]"
      ]
     },
     "execution_count": 51,
     "metadata": {},
     "output_type": "execute_result"
    },
    {
     "data": {
      "image/png": "[encoded data removed]",
      "text/plain": [
       "<Figure size 640x480 with 1 Axes>"
      ]
     },
     "metadata": {},
     "output_type": "display_data"
    }
   ],
   "source": [
    "plt.plot(val_results['Val predictions'])\n",
    "plt.plot(val_results['actual'])"
   ]
  },
  {
   "cell_type": "code",
   "execution_count": 52,
   "metadata": {},
   "outputs": [
    {
     "data": {
      "text/plain": [
       "[<matplotlib.lines.Line2D at 0x117fc826b50>]"
      ]
     },
     "execution_count": 52,
     "metadata": {},
     "output_type": "execute_result"
    },
    {
     "data": {
      "image/png": "[encoded data removed]",
      "text/plain": [
       "<Figure size 640x480 with 1 Axes>"
      ]
     },
     "metadata": {},
     "output_type": "display_data"
    }
   ],
   "source": [
    "plt.plot(val_results['Val predictions'])"
   ]
  },
  {
   "cell_type": "code",
   "execution_count": 53,
   "metadata": {},
   "outputs": [
    {
     "data": {
      "text/plain": [
       "[<matplotlib.lines.Line2D at 0x117a952f2e0>]"
      ]
     },
     "execution_count": 53,
     "metadata": {},
     "output_type": "execute_result"
    },
    {
     "data": {
      "image/png": "[encoded data removed]",
      "text/plain": [
       "<Figure size 640x480 with 1 Axes>"
      ]
     },
     "metadata": {},
     "output_type": "display_data"
    }
   ],
   "source": [
    "plt.plot(val_results['actual'])"
   ]
  },
  {
   "cell_type": "markdown",
   "metadata": {},
   "source": [
    "# test results "
   ]
  },
  {
   "cell_type": "code",
   "execution_count": 54,
   "metadata": {},
   "outputs": [
    {
     "name": "stdout",
     "output_type": "stream",
     "text": [
      "273/273 [==============================] - 4s 16ms/step\n"
     ]
    },
    {
     "data": {
      "text/html": [
       "<div>\n",
       "<style scoped>\n",
       "    .dataframe tbody tr th:only-of-type {\n",
       "        vertical-align: middle;\n",
       "    }\n",
       "\n",
       "    .dataframe tbody tr th {\n",
       "        vertical-align: top;\n",
       "    }\n",
       "\n",
       "    .dataframe thead th {\n",
       "        text-align: right;\n",
       "    }\n",
       "</style>\n",
       "<table border=\"1\" class=\"dataframe\">\n",
       "  <thead>\n",
       "    <tr style=\"text-align: right;\">\n",
       "      <th></th>\n",
       "      <th>Test predictions</th>\n",
       "      <th>actual</th>\n",
       "    </tr>\n",
       "  </thead>\n",
       "  <tbody>\n",
       "    <tr>\n",
       "      <th>0</th>\n",
       "      <td>-0.033763</td>\n",
       "      <td>-0.084788</td>\n",
       "    </tr>\n",
       "    <tr>\n",
       "      <th>1</th>\n",
       "      <td>-0.044608</td>\n",
       "      <td>-0.084788</td>\n",
       "    </tr>\n",
       "    <tr>\n",
       "      <th>2</th>\n",
       "      <td>-0.050071</td>\n",
       "      <td>-0.084788</td>\n",
       "    </tr>\n",
       "    <tr>\n",
       "      <th>3</th>\n",
       "      <td>-0.051724</td>\n",
       "      <td>-0.084788</td>\n",
       "    </tr>\n",
       "    <tr>\n",
       "      <th>4</th>\n",
       "      <td>-0.048419</td>\n",
       "      <td>-0.084788</td>\n",
       "    </tr>\n",
       "    <tr>\n",
       "      <th>...</th>\n",
       "      <td>...</td>\n",
       "      <td>...</td>\n",
       "    </tr>\n",
       "    <tr>\n",
       "      <th>8710</th>\n",
       "      <td>-0.088737</td>\n",
       "      <td>-0.084788</td>\n",
       "    </tr>\n",
       "    <tr>\n",
       "      <th>8711</th>\n",
       "      <td>-0.089475</td>\n",
       "      <td>-0.084788</td>\n",
       "    </tr>\n",
       "    <tr>\n",
       "      <th>8712</th>\n",
       "      <td>-0.089126</td>\n",
       "      <td>-0.084788</td>\n",
       "    </tr>\n",
       "    <tr>\n",
       "      <th>8713</th>\n",
       "      <td>-0.092161</td>\n",
       "      <td>-0.084788</td>\n",
       "    </tr>\n",
       "    <tr>\n",
       "      <th>8714</th>\n",
       "      <td>-0.091216</td>\n",
       "      <td>-0.084788</td>\n",
       "    </tr>\n",
       "  </tbody>\n",
       "</table>\n",
       "<p>8715 rows × 2 columns</p>\n",
       "</div>"
      ],
      "text/plain": [
       "      Test predictions    actual\n",
       "0            -0.033763 -0.084788\n",
       "1            -0.044608 -0.084788\n",
       "2            -0.050071 -0.084788\n",
       "3            -0.051724 -0.084788\n",
       "4            -0.048419 -0.084788\n",
       "...                ...       ...\n",
       "8710         -0.088737 -0.084788\n",
       "8711         -0.089475 -0.084788\n",
       "8712         -0.089126 -0.084788\n",
       "8713         -0.092161 -0.084788\n",
       "8714         -0.091216 -0.084788\n",
       "\n",
       "[8715 rows x 2 columns]"
      ]
     },
     "execution_count": 54,
     "metadata": {},
     "output_type": "execute_result"
    }
   ],
   "source": [
    "test_predictions = model4.predict(X_test).flatten()\n",
    "test_results = pd.DataFrame(data={'Test predictions': test_predictions, 'actual':y_test})\n",
    "test_results"
   ]
  },
  {
   "cell_type": "code",
   "execution_count": 55,
   "metadata": {},
   "outputs": [
    {
     "data": {
      "text/plain": [
       "-7.518752653677398"
      ]
     },
     "execution_count": 55,
     "metadata": {},
     "output_type": "execute_result"
    }
   ],
   "source": [
    "((-0.091163\t- -0.084788)/ 0.084788 )*100"
   ]
  },
  {
   "cell_type": "code",
   "execution_count": 56,
   "metadata": {},
   "outputs": [],
   "source": [
    "# Avoid division by zero\n",
    "test_results['actual'] = test_results['actual'].replace(0, 1e-6)"
   ]
  },
  {
   "cell_type": "code",
   "execution_count": 57,
   "metadata": {},
   "outputs": [
    {
     "name": "stdout",
     "output_type": "stream",
     "text": [
      "97.671487262081\n"
     ]
    }
   ],
   "source": [
    "accuracy = (abs(test_results['actual'] - test_results['Test predictions'] )/ abs(test_results['actual'])) * 100\n",
    "\n",
    "print(accuracy.mean())"
   ]
  },
  {
   "cell_type": "code",
   "execution_count": 58,
   "metadata": {},
   "outputs": [
    {
     "data": {
      "text/plain": [
       "[<matplotlib.lines.Line2D at 0x117e2f2ed90>]"
      ]
     },
     "execution_count": 58,
     "metadata": {},
     "output_type": "execute_result"
    },
    {
     "data": {
      "image/png": "[encoded data removed]",
      "text/plain": [
       "<Figure size 640x480 with 1 Axes>"
      ]
     },
     "metadata": {},
     "output_type": "display_data"
    }
   ],
   "source": [
    "plt.plot(test_results['Test predictions'])\n",
    "plt.plot(test_results['actual'])"
   ]
  },
  {
   "cell_type": "code",
   "execution_count": 59,
   "metadata": {},
   "outputs": [
    {
     "data": {
      "text/plain": [
       "[<matplotlib.lines.Line2D at 0x117b8bae940>]"
      ]
     },
     "execution_count": 59,
     "metadata": {},
     "output_type": "execute_result"
    },
    {
     "data": {
      "image/png": "[encoded data removed]",
      "text/plain": [
       "<Figure size 640x480 with 1 Axes>"
      ]
     },
     "metadata": {},
     "output_type": "display_data"
    }
   ],
   "source": [
    "plt.plot(test_results['Test predictions'])"
   ]
  },
  {
   "cell_type": "code",
   "execution_count": 60,
   "metadata": {},
   "outputs": [
    {
     "data": {
      "text/plain": [
       "[<matplotlib.lines.Line2D at 0x117a94968b0>]"
      ]
     },
     "execution_count": 60,
     "metadata": {},
     "output_type": "execute_result"
    },
    {
     "data": {
      "image/png": "[encoded data removed]",
      "text/plain": [
       "<Figure size 640x480 with 1 Axes>"
      ]
     },
     "metadata": {},
     "output_type": "display_data"
    }
   ],
   "source": [
    "plt.plot(test_results['Test predictions'][100:1100])\n",
    "plt.plot(test_results['actual'][100:1100])"
   ]
  },
  {
   "cell_type": "code",
   "execution_count": 61,
   "metadata": {},
   "outputs": [
    {
     "data": {
      "text/plain": [
       "[<matplotlib.lines.Line2D at 0x117e3079c40>]"
      ]
     },
     "execution_count": 61,
     "metadata": {},
     "output_type": "execute_result"
    },
    {
     "data": {
      "image/png": "[encoded data removed]",
      "text/plain": [
       "<Figure size 640x480 with 1 Axes>"
      ]
     },
     "metadata": {},
     "output_type": "display_data"
    }
   ],
   "source": [
    "plt.plot(test_results['Test predictions'][100:500])\n",
    "plt.plot(test_results['actual'][100:500])"
   ]
  },
  {
   "cell_type": "code",
   "execution_count": 62,
   "metadata": {},
   "outputs": [
    {
     "data": {
      "text/plain": [
       "[<matplotlib.lines.Line2D at 0x117a950bf70>]"
      ]
     },
     "execution_count": 62,
     "metadata": {},
     "output_type": "execute_result"
    },
    {
     "data": {
      "image/png": "[encoded data removed]",
      "text/plain": [
       "<Figure size 640x480 with 1 Axes>"
      ]
     },
     "metadata": {},
     "output_type": "display_data"
    }
   ],
   "source": [
    "plt.plot(test_results['actual'])"
   ]
  },
  {
   "cell_type": "code",
   "execution_count": null,
   "metadata": {},
   "outputs": [],
   "source": []
  },
  {
   "cell_type": "code",
   "execution_count": 63,
   "metadata": {},
   "outputs": [
    {
     "name": "stdout",
     "output_type": "stream",
     "text": [
      "Mean Absolute Error (MAE): 0.1463339291393372\n",
      "Mean Squared Error (MSE): 0.7898610351128131\n",
      "Root Mean Squared Error (RMSE): 0.8887412644368512\n"
     ]
    }
   ],
   "source": [
    "from sklearn.metrics import mean_absolute_error, mean_squared_error\n",
    "predictions = test_results['Test predictions']\n",
    "actual = test_results['actual']\n",
    "\n",
    "# Calculate Mean Absolute Error (MAE)\n",
    "mae = mean_absolute_error(actual, predictions)\n",
    "print(f\"Mean Absolute Error (MAE): {mae}\")\n",
    "\n",
    "# Calculate Mean Squared Error (MSE)\n",
    "mse = mean_squared_error(actual, predictions)\n",
    "print(f\"Mean Squared Error (MSE): {mse}\")\n",
    "\n",
    "# Calculate Root Mean Squared Error (RMSE)\n",
    "rmse = np.sqrt(mse)\n",
    "print(f\"Root Mean Squared Error (RMSE): {rmse}\")"
   ]
  },
  {
   "cell_type": "code",
   "execution_count": 64,
   "metadata": {},
   "outputs": [],
   "source": [
    "# Mean Absolute Error (MAE): 0.8825703390961304\n",
    "# Mean Squared Error (MSE): 1.48527164626429\n",
    "# Root Mean Squared Error (RMSE): 1.2187172134110071\n",
    "\n",
    "# Mean Absolute Error (MAE): 0.8218519337972005\n",
    "# Mean Squared Error (MSE): 1.2539217628537733\n",
    "# Root Mean Squared Error (RMSE): 1.1197864809211502"
   ]
  },
  {
   "cell_type": "code",
   "execution_count": null,
   "metadata": {},
   "outputs": [],
   "source": []
  },
  {
   "cell_type": "markdown",
   "metadata": {},
   "source": [
    "# inverse transform"
   ]
  },
  {
   "cell_type": "code",
   "execution_count": 65,
   "metadata": {},
   "outputs": [
    {
     "data": {
      "text/plain": [
       "array([-0.03376307, -0.04460788, -0.05007122, ..., -0.08912563,\n",
       "       -0.09216142, -0.09121603], dtype=float32)"
      ]
     },
     "execution_count": 65,
     "metadata": {},
     "output_type": "execute_result"
    }
   ],
   "source": [
    "test_predictions"
   ]
  },
  {
   "cell_type": "code",
   "execution_count": null,
   "metadata": {},
   "outputs": [],
   "source": [
    "\n",
    "\n"
   ]
  }
 ],
 "metadata": {
  "kernelspec": {
   "display_name": ".venv",
   "language": "python",
   "name": "python3"
  },
  "language_info": {
   "codemirror_mode": {
    "name": "ipython",
    "version": 3
   },
   "file_extension": ".py",
   "mimetype": "text/x-python",
   "name": "python",
   "nbconvert_exporter": "python",
   "pygments_lexer": "ipython3",
   "version": "3.9.0b4"
  }
 },
 "nbformat": 4,
 "nbformat_minor": 2
}
